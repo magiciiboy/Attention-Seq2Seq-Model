{
 "cells": [
  {
   "cell_type": "markdown",
   "metadata": {
    "colab_type": "text",
    "id": "gnbd9oNyOy_A"
   },
   "source": [
    "# Sequence to Sequence + Attention Model\n",
    "\n"
   ]
  },
  {
   "cell_type": "markdown",
   "metadata": {
    "colab_type": "text",
    "id": "28rgR7alNu8s"
   },
   "source": [
    "## Table of Contents\n",
    "---\n",
    "\n",
    "* [Problem](#Problem)\n",
    "* [Solution](#Solution)\n",
    "    * [Logistics](#1.-Logistics)\n",
    "    * [Data preprocessing](#2.-Data-Preprocessing)  \n",
    "        * [Training & Validate Data Preperation](#Training-&-Validate-Data-Preparation)\n",
    "        * [Test Data Exploration](#Test-Data-Exploration)\n",
    "    * [Model](#3.-Model)  \n",
    "        * [Architecture of Encoder](#Architecture-of-Encoder)  \n",
    "        * [Architecture of Decoder: Vanilla LSTM](#Architecture-of-Decoder:-Vanilla-LSTM)  \n",
    "        * [Architecture of Decoder: LSTM with Attention](#Architecture-of-Decoder:-LSTM-+-Attention)    \n",
    "    * [Training](#4.-Training)\n",
    "        * [Encoder + Vanilla LSTM Decoder](#Train-the-Model:-Vanilla-Seq2Seq)\n",
    "        * [Encoder + LSTM with Attention Decoder](#Train-the-Model:-Seq2Seq-+-Attention)\n",
    "    * [Evaluation](#5.-Evaluation)\n",
    "        * [With validation data](#With-validation-data)\n",
    "        * [With test data](#With-test-data)\n",
    "    * [Analysis & Discussion](#6.-Analysis-&-Discussion)\n",
    "\n",
    "**Note**: *Some of code snippets are inherited and extended from Gustavo's sample-by-sample Seq2Seq model. I really appreciate his sharing about Attention model. It is very informative and explained in a very easy-to-understand way.*  \n"
   ]
  },
  {
   "cell_type": "markdown",
   "metadata": {
    "colab_type": "text",
    "id": "PAM7L49fK0hQ"
   },
   "source": [
    "## Problem\n",
    "\n",
    "Build a Seq2Seq + Attention model and compare with vanilla Seq2Seq LSTM model."
   ]
  },
  {
   "cell_type": "markdown",
   "metadata": {},
   "source": [
    "## Solution"
   ]
  },
  {
   "cell_type": "markdown",
   "metadata": {
    "colab_type": "text",
    "id": "m_iMUzOQcwzR"
   },
   "source": [
    "### 1. Logistics"
   ]
  },
  {
   "cell_type": "code",
   "execution_count": 0,
   "metadata": {
    "colab": {},
    "colab_type": "code",
    "id": "L4PwryCNcu2F"
   },
   "outputs": [],
   "source": [
    "# !pip install torchviz"
   ]
  },
  {
   "cell_type": "code",
   "execution_count": 0,
   "metadata": {
    "colab": {},
    "colab_type": "code",
    "id": "8MJ8D6YfOy_B"
   },
   "outputs": [],
   "source": [
    "import os\n",
    "import random\n",
    "\n",
    "import torch\n",
    "import torch.nn as nn\n",
    "import torch.optim as optim\n",
    "\n",
    "from sklearn.metrics import accuracy_score\n",
    "from datetime import datetime\n",
    "from matplotlib import pyplot as plt\n",
    "from google.colab import drive\n",
    "from torchviz import make_dot\n",
    "\n",
    "torch.manual_seed(1)\n",
    "random.seed(1)\n",
    "\n",
    "%matplotlib inline"
   ]
  },
  {
   "cell_type": "code",
   "execution_count": 0,
   "metadata": {
    "colab": {
     "base_uri": "https://localhost:8080/",
     "height": 54
    },
    "colab_type": "code",
    "id": "w61MS61cqtPl",
    "outputId": "88ca1756-1d11-482b-a4b3-835c7965bf7d"
   },
   "outputs": [
    {
     "name": "stdout",
     "output_type": "stream",
     "text": [
      "Drive already mounted at /content/drive; to attempt to forcibly remount, call drive.mount(\"/content/drive\", force_remount=True).\n"
     ]
    }
   ],
   "source": [
    "drive.mount('/content/drive')"
   ]
  },
  {
   "cell_type": "code",
   "execution_count": 112,
   "metadata": {
    "colab": {
     "base_uri": "https://localhost:8080/",
     "height": 68
    },
    "colab_type": "code",
    "id": "3eF_JUYeq5Rz",
    "outputId": "1698f130-b448-4dbe-b3ac-c7635e6d9b9b"
   },
   "outputs": [
    {
     "name": "stdout",
     "output_type": "stream",
     "text": [
      "Note: Model Seq2Seq existed\n",
      "Note: Model Seq2Seq+Attention existed\n",
      "This notebook is using: cuda\n"
     ]
    }
   ],
   "source": [
    "# Normally, the model won't be retrained as model.pt file existed\n",
    "# This constant forces to retrain the model\n",
    "FORCE_RETRAIN = False\n",
    "\n",
    "MODEL_PATH = '/content/drive/My Drive/Colab Notebooks/data/NLP/HW3/output'\n",
    "MODEL_PATH_SEQ2SEQ = '%s/seq2seq.pt' % MODEL_PATH\n",
    "MODEL_PATH_SEQ2SEQ_ATTENTION = '%s/seq2seq+attn.pt' % MODEL_PATH\n",
    "MODEL_PATH_SEQ2SEQ_LOSS = '%s/seq2seq.loss.pt' % MODEL_PATH\n",
    "\n",
    "MODEL_EXISTED_SEQ2SEQ = os.path.isfile(MODEL_PATH_SEQ2SEQ)\n",
    "MODEL_EXISTED_SEQ2SEQ_ATTENTION = os.path.isfile(MODEL_PATH_SEQ2SEQ_ATTENTION)\n",
    "\n",
    "TEST_DATA_PATH = '/content/drive/My Drive/Colab Notebooks/data/NLP/HW3/data/test.txt'\n",
    "\n",
    "if MODEL_EXISTED_SEQ2SEQ:\n",
    "    print('Note: Model Seq2Seq existed')\n",
    "\n",
    "if MODEL_EXISTED_SEQ2SEQ_ATTENTION:\n",
    "    print('Note: Model Seq2Seq+Attention existed')\n",
    "\n",
    "DEVICE = torch.device('cuda' if torch.cuda.is_available() else 'cpu')\n",
    "print('This notebook is using: %s' % DEVICE)"
   ]
  },
  {
   "cell_type": "markdown",
   "metadata": {
    "colab_type": "text",
    "id": "EK4IdHuEOy_E"
   },
   "source": [
    "### 2. Data Preprocessing"
   ]
  },
  {
   "cell_type": "markdown",
   "metadata": {
    "colab_type": "text",
    "id": "SYO13C8WPr4D"
   },
   "source": [
    "#### Training & Validate Data Preparation\n",
    "Our automatically-generated data will contain sequences with repeated and unordered letters. Such sequences must be mapped to alphabetically-sorted sequences of unique letters. Here are a few examples:\n",
    "```\n",
    "ccccaaabb        ->   abc\n",
    "vvvrxduuu        ->   druvx\n",
    "sddvvvzzuuuxxx   ->   dsuvxz\n",
    "```\n"
   ]
  },
  {
   "cell_type": "code",
   "execution_count": 0,
   "metadata": {
    "colab": {},
    "colab_type": "code",
    "id": "Qykhz9toPKZF"
   },
   "outputs": [],
   "source": [
    "def sorting_letters_dataset(size):\n",
    "    dataset = []\n",
    "    for _ in range(size):\n",
    "        x = []\n",
    "        for _ in range(random.randint(3, 10)):\n",
    "            letter = chr(random.randint(97, 122))\n",
    "            repeat = [letter] * random.randint(1, 3)\n",
    "            x.extend(repeat)\n",
    "        y = sorted(set(x))\n",
    "        dataset.append((x, y))\n",
    "    return zip(*dataset)"
   ]
  },
  {
   "cell_type": "markdown",
   "metadata": {
    "colab_type": "text",
    "id": "eXYuTHUTOy_H"
   },
   "source": [
    "We will have two splits in our data, one for **training**, and another for validation. The training set will be **20,000** samples and we will use this set to update the parameters of the model. The **validation** set will be **5,000** samples, which we use to select the best model.\n"
   ]
  },
  {
   "cell_type": "code",
   "execution_count": 0,
   "metadata": {
    "colab": {},
    "colab_type": "code",
    "id": "zmPfjrNaOy_I"
   },
   "outputs": [],
   "source": [
    "class Vocab:\n",
    "    def __init__(self, vocab):\n",
    "        self.itos = vocab\n",
    "        self.stoi = {d:i for i, d in enumerate(self.itos)}\n",
    "        \n",
    "    def __len__(self):\n",
    "        return len(self.itos) \n",
    "    \n",
    "src_vocab = Vocab(['<pad>'] + [chr(i+97) for i in range(26)])\n",
    "tgt_vocab = Vocab(['<pad>'] + [chr(i+97) for i in range(26)] + ['<start>', '<stop>'] )\n",
    "\n",
    "train_inp, train_out = sorting_letters_dataset(20_000)\n",
    "valid_inp, valid_out = sorting_letters_dataset(5_000)"
   ]
  },
  {
   "cell_type": "markdown",
   "metadata": {
    "colab_type": "text",
    "id": "_Ttff51vOy_K"
   },
   "source": [
    "Now, we need to map the text data into numeric values. These numeric values are indexes that correspond to the entries in the embedding lookup table.\n",
    "    \n",
    "**Batch Processing**  \n",
    "As we need to implement batch processing to our model. \n",
    "We need to make sure every input and output has the same length. Therefore, we add padding token, annotated as `<pad>`, and ending token, annotated as `<stop>` by the end of each sequence. A token `<start>` is also used in the vocabulary set of output to annotate the starting point of a sequence.   \n",
    "\n",
    "As output is a ordered character-deduplicated version of input, output is much shorter than input. So that, we use different length of sequence to adapt the nature of data. This variance of length helps to reduce the redundant computation if using the same length for input and output. In this case, we have the max length of input is **28** and max length of output is **10**.  \n",
    "\n",
    "In addition, this process also allows to extend the maximum length of the sequence as the test data might have different length."
   ]
  },
  {
   "cell_type": "code",
   "execution_count": 90,
   "metadata": {
    "colab": {
     "base_uri": "https://localhost:8080/",
     "height": 51
    },
    "colab_type": "code",
    "id": "cWCc9y77Oy_L",
    "outputId": "84b7b893-9419-4f34-aff0-4defbd67d9d4"
   },
   "outputs": [
    {
     "name": "stdout",
     "output_type": "stream",
     "text": [
      "Max Input Length: 28\n",
      "Max Output Length: 10\n"
     ]
    }
   ],
   "source": [
    "START_IX = tgt_vocab.stoi['<start>']\n",
    "STOP_IX  = tgt_vocab.stoi['<stop>']\n",
    "\n",
    "def max_len(elems):\n",
    "  return max([len(i) for i in elems])\n",
    "\n",
    "# SEQ_LENGTH = max(max_len(train_inp), max_len(valid_inp))\n",
    "SEQ_INPUT_LENGTH = max_len(train_inp)\n",
    "SEQ_OUTPUT_LENGTH = max_len(train_out)\n",
    "\n",
    "print('Max Input Length:', SEQ_INPUT_LENGTH)\n",
    "print('Max Output Length:', SEQ_OUTPUT_LENGTH)\n",
    "\n",
    "def map_elems(elems, mapper, seq_type='input', seq_length=None):\n",
    "    if seq_type == 'input':\n",
    "        pad_index = mapper['<pad>']\n",
    "        max_length = seq_length or SEQ_INPUT_LENGTH\n",
    "        assert len(elems) <= max_length, (\"Invalid string: %s\" % str(elems))\n",
    "        return [mapper[elem] for elem in elems] + ([pad_index] * (max_length - len(elems)))\n",
    "    elif seq_type == 'output':\n",
    "        pad_index = STOP_IX\n",
    "        max_length = seq_length or SEQ_OUTPUT_LENGTH\n",
    "        assert len(elems) <= max_length, (\"Invalid string: %s\" % str(elems))\n",
    "        return [mapper[elem] for elem in elems] + ([pad_index] * (max_length - len(elems)))\n",
    "\n",
    "def map_many_elems(many_elems, mapper, seq_type='input', seq_length=None):\n",
    "    return [map_elems(elems, mapper, seq_type=seq_type, seq_length=seq_length) for elems in many_elems]\n",
    "\n",
    "train_x = map_many_elems(train_inp, src_vocab.stoi, seq_type='input')\n",
    "train_y = map_many_elems(train_out, tgt_vocab.stoi, seq_type='output')\n",
    "\n",
    "valid_x = map_many_elems(valid_inp, src_vocab.stoi, seq_type='input')\n",
    "valid_y = map_many_elems(valid_out, tgt_vocab.stoi, seq_type='output')"
   ]
  },
  {
   "cell_type": "code",
   "execution_count": 91,
   "metadata": {
    "colab": {
     "base_uri": "https://localhost:8080/",
     "height": 85
    },
    "colab_type": "code",
    "id": "1fIdUCFrwx5x",
    "outputId": "24710307-abf3-44e9-c84c-7951001c4caa"
   },
   "outputs": [
    {
     "name": "stdout",
     "output_type": "stream",
     "text": [
      "['s', 'i', 'p', 'p', 'p', 'p', 'p', 'm']\n",
      "[19, 9, 16, 16, 16, 16, 16, 13, 0, 0, 0, 0, 0, 0, 0, 0, 0, 0, 0, 0, 0, 0, 0, 0, 0, 0, 0, 0]\n",
      "['i', 'm', 'p', 's']\n",
      "[9, 13, 16, 19, 28, 28, 28, 28, 28, 28]\n"
     ]
    }
   ],
   "source": [
    "# Validate the data\n",
    "print(train_inp[0])\n",
    "print(train_x[0])\n",
    "assert len(train_x[0]) == SEQ_INPUT_LENGTH, \"Invalid length\"\n",
    "\n",
    "print(train_out[0])\n",
    "print(train_y[0])\n",
    "assert len(train_y[0]) == SEQ_OUTPUT_LENGTH, \"Invalid length\""
   ]
  },
  {
   "cell_type": "markdown",
   "metadata": {
    "colab_type": "text",
    "id": "RtwH-Wj4QccN"
   },
   "source": [
    "#### Test Data Exploration"
   ]
  },
  {
   "cell_type": "markdown",
   "metadata": {
    "colab_type": "text",
    "id": "gwGoLtf7pZxn"
   },
   "source": [
    "As we see here the length of Test data (**58**) is much higher than what we have in training and validating data."
   ]
  },
  {
   "cell_type": "code",
   "execution_count": 92,
   "metadata": {
    "colab": {
     "base_uri": "https://localhost:8080/",
     "height": 119
    },
    "colab_type": "code",
    "id": "_QEs29t-Oy_x",
    "outputId": "dc506c23-a2c4-471e-8ea8-6a15b469e063"
   },
   "outputs": [
    {
     "name": "stdout",
     "output_type": "stream",
     "text": [
      "Total test cases: 5000\n",
      "Max length of input: 58\n",
      "Min length of input: 3\n",
      "Max length of output: 13\n",
      "Min length of output: 2\n",
      "Max repeated length: 8.0 (In=lllllllfffflllll, Out=fl)\n"
     ]
    }
   ],
   "source": [
    "import pandas as pd\n",
    "\n",
    "test_data = pd.read_csv(TEST_DATA_PATH, delimiter='\\t', header=None, usecols=[0,1])\n",
    "test_inp, test_out = test_data[0], test_data[1]\n",
    "\n",
    "print('Total test cases: %s' % len(test_inp))\n",
    "print('Max length of input: %s' % max([len(i) for i in test_inp]))\n",
    "print('Min length of input: %s' % min([len(i) for i in test_inp]))\n",
    "print('Max length of output: %s' % max([len(o) for o in test_out]))\n",
    "print('Min length of output: %s' % min([len(o) for o in test_out]))\n",
    "print('Max repeated length: %s (In=%s, Out=%s)' % (max([len(w)/len(test_out[idx]) for idx, w in enumerate(test_inp)]), \n",
    "                                              test_inp[[len(w)/len(test_out[idx]) for idx, w in enumerate(test_inp)].index(8)],\n",
    "                                              test_out[[len(w)/len(test_out[idx]) for idx, w in enumerate(test_inp)].index(8)]))"
   ]
  },
  {
   "cell_type": "markdown",
   "metadata": {
    "colab_type": "text",
    "id": "fr6HiOvVOy_N"
   },
   "source": [
    "### 3. Model"
   ]
  },
  {
   "cell_type": "markdown",
   "metadata": {
    "colab_type": "text",
    "id": "IjbHkwITR9Fj"
   },
   "source": [
    "#### Architecture of Encoder\n",
    "Our encoder will be a simple LSTM model with one layer and one direction. For batch processing, a batch of same-size sequences are fed in the encoder to generate the encoder states.\n",
    "\n",
    "\n",
    "<img src='https://github.com/gaguilar/basic_nlp_tutorial/blob/master/tutorial_on_seq2seq_models/images/encoder.png?raw=1' width='50%'/>\n",
    "\n",
    "<small>Photo Credit: Gustavo's slide</small>\n",
    "\n",
    "**Explanation**\n",
    "- $h_i$ is the short-term state.\n",
    "- $c_i$ is the long-term state.\n",
    "\n",
    "**Two types of outputs**\n",
    "- Last state: $z$ = $h_n$ and $c_n$. This is used in Vanilla Seq2Seq model.\n",
    "- All states: $(h_1, h_2, ..., h_n)$ and $(c_1, c_2, ..., c_n)$. This is used in Seq2Seq + Attention model."
   ]
  },
  {
   "cell_type": "code",
   "execution_count": 0,
   "metadata": {
    "colab": {},
    "colab_type": "code",
    "id": "yYuYXQpKNxxH"
   },
   "outputs": [],
   "source": [
    "class Encoder(nn.Module):\n",
    "    def __init__(self, vocab_size, emb_dim, hidden_dim, z_type, dropout=0.5):\n",
    "        super(Encoder, self).__init__()\n",
    "        self.z_index = z_type\n",
    "        \n",
    "        self.hidden_dim = hidden_dim\n",
    "\n",
    "        self.emb = nn.Embedding(vocab_size, emb_dim)\n",
    "        self.lstm = nn.LSTM(emb_dim, hidden_dim, batch_first=True)\n",
    "        self.drop = nn.Dropout(dropout)\n",
    "    \n",
    "    def forward(self, inputs):\n",
    "        device = next(self.parameters()).device\n",
    "        seq = torch.tensor(inputs).to(device) # (1, seqlen)\n",
    "        emb = self.emb(seq) # (1, seqlen, emb_dim)\n",
    "        batch_size = seq.size(0)\n",
    "        emb = self.drop(emb) \n",
    "        \n",
    "        outs, (h_n, c_n) = self.lstm(emb)\n",
    "\n",
    "        assert outs.size(0) == batch_size\n",
    "        # assert outs.size(1) == SEQ_INPUT_LENGTH\n",
    "        assert outs.size(2) == self.hidden_dim\n",
    "\n",
    "        if self.z_index == 1:\n",
    "            return h_n[0], c_n[0] # (seqlen, lstm_dim)\n",
    "        else:\n",
    "            return outs # (1, seqlen, lstm_dim)\n"
   ]
  },
  {
   "cell_type": "markdown",
   "metadata": {
    "colab_type": "text",
    "id": "BlH5RYAtuuhf"
   },
   "source": [
    "**Structure of the Encoder**\n",
    "- *Embedding Module*: A batch of sequences is embedded after being fed in the encoder. This module is often used to store word embeddings and retrieve them using indices. The input to the module is a list of indices, and the output is the corresponding word embeddings.\n",
    "- *Dropout Module*: Embedded batch is dropped out. This helps for regularization and preventing the co-adaptation of neurons as described in the paper [Improving neural networks by preventing co-adaptation of feature detectors](https://arxiv.org/abs/1207.0580). During training, randomly zeroes some of the elements of the input tensor with probability $p$ using samples from a $Bernoulli$ distribution.\n",
    "- *Unidirectional LSTM*: LSTM is applied to learn the pattern of the sequence."
   ]
  },
  {
   "cell_type": "code",
   "execution_count": 100,
   "metadata": {
    "colab": {
     "base_uri": "https://localhost:8080/",
     "height": 486
    },
    "colab_type": "code",
    "id": "AQ-WiHCBul_q",
    "outputId": "1a341233-89ca-483a-d838-3d25effaa5fd"
   },
   "outputs": [
    {
     "name": "stdout",
     "output_type": "stream",
     "text": [
      "Encoder(\n",
      "  (emb): Embedding(27, 64)\n",
      "  (lstm): LSTM(64, 128, batch_first=True)\n",
      "  (drop): Dropout(p=0.5, inplace=False)\n",
      ")\n"
     ]
    },
    {
     "data": {
      "image/svg+xml": [
       "<?xml version=\"1.0\" encoding=\"UTF-8\" standalone=\"no\"?>\n",
       "<!DOCTYPE svg PUBLIC \"-//W3C//DTD SVG 1.1//EN\"\n",
       " \"http://www.w3.org/Graphics/SVG/1.1/DTD/svg11.dtd\">\n",
       "<!-- Generated by graphviz version 2.40.1 (20161225.0304)\n",
       " -->\n",
       "<!-- Title: %3 Pages: 1 -->\n",
       "<svg width=\"455pt\" height=\"285pt\"\n",
       " viewBox=\"0.00 0.00 455.00 285.00\" xmlns=\"http://www.w3.org/2000/svg\" xmlns:xlink=\"http://www.w3.org/1999/xlink\">\n",
       "<g id=\"graph0\" class=\"graph\" transform=\"scale(1 1) rotate(0) translate(4 281)\">\n",
       "<title>%3</title>\n",
       "<polygon fill=\"#ffffff\" stroke=\"transparent\" points=\"-4,4 -4,-281 451,-281 451,4 -4,4\"/>\n",
       "<!-- 139927861678936 -->\n",
       "<g id=\"node1\" class=\"node\">\n",
       "<title>139927861678936</title>\n",
       "<polygon fill=\"#caff70\" stroke=\"#000000\" points=\"259,-21 165,-21 165,0 259,0 259,-21\"/>\n",
       "<text text-anchor=\"middle\" x=\"212\" y=\"-7.4\" font-family=\"Times,serif\" font-size=\"12.00\" fill=\"#000000\">SelectBackward</text>\n",
       "</g>\n",
       "<!-- 139927861681680 -->\n",
       "<g id=\"node2\" class=\"node\">\n",
       "<title>139927861681680</title>\n",
       "<polygon fill=\"#d3d3d3\" stroke=\"#000000\" points=\"327,-78 209,-78 209,-57 327,-57 327,-78\"/>\n",
       "<text text-anchor=\"middle\" x=\"268\" y=\"-64.4\" font-family=\"Times,serif\" font-size=\"12.00\" fill=\"#000000\">CudnnRnnBackward</text>\n",
       "</g>\n",
       "<!-- 139927861681680&#45;&gt;139927861678936 -->\n",
       "<g id=\"edge1\" class=\"edge\">\n",
       "<title>139927861681680&#45;&gt;139927861678936</title>\n",
       "<path fill=\"none\" stroke=\"#000000\" d=\"M257.4668,-56.7787C249.645,-48.8173 238.7954,-37.7739 229.6564,-28.4717\"/>\n",
       "<polygon fill=\"#000000\" stroke=\"#000000\" points=\"231.9909,-25.8537 222.4859,-21.1732 226.9975,-30.7595 231.9909,-25.8537\"/>\n",
       "</g>\n",
       "<!-- 139927861678376 -->\n",
       "<g id=\"node10\" class=\"node\">\n",
       "<title>139927861678376</title>\n",
       "<polygon fill=\"#caff70\" stroke=\"#000000\" points=\"371,-21 277,-21 277,0 371,0 371,-21\"/>\n",
       "<text text-anchor=\"middle\" x=\"324\" y=\"-7.4\" font-family=\"Times,serif\" font-size=\"12.00\" fill=\"#000000\">SelectBackward</text>\n",
       "</g>\n",
       "<!-- 139927861681680&#45;&gt;139927861678376 -->\n",
       "<g id=\"edge9\" class=\"edge\">\n",
       "<title>139927861681680&#45;&gt;139927861678376</title>\n",
       "<path fill=\"none\" stroke=\"#000000\" d=\"M278.5332,-56.7787C286.355,-48.8173 297.2046,-37.7739 306.3436,-28.4717\"/>\n",
       "<polygon fill=\"#000000\" stroke=\"#000000\" points=\"309.0025,-30.7595 313.5141,-21.1732 304.0091,-25.8537 309.0025,-30.7595\"/>\n",
       "</g>\n",
       "<!-- 139927862287888 -->\n",
       "<g id=\"node3\" class=\"node\">\n",
       "<title>139927862287888</title>\n",
       "<polygon fill=\"#d3d3d3\" stroke=\"#000000\" points=\"134,-142 0,-142 0,-121 134,-121 134,-142\"/>\n",
       "<text text-anchor=\"middle\" x=\"67\" y=\"-128.4\" font-family=\"Times,serif\" font-size=\"12.00\" fill=\"#000000\">FusedDropoutBackward</text>\n",
       "</g>\n",
       "<!-- 139927862287888&#45;&gt;139927861681680 -->\n",
       "<g id=\"edge2\" class=\"edge\">\n",
       "<title>139927862287888&#45;&gt;139927861681680</title>\n",
       "<path fill=\"none\" stroke=\"#000000\" d=\"M100.1911,-120.9317C134.3781,-110.0463 187.7967,-93.0374 225.1545,-81.1423\"/>\n",
       "<polygon fill=\"#000000\" stroke=\"#000000\" points=\"226.2929,-84.4531 234.7596,-78.084 224.1691,-77.783 226.2929,-84.4531\"/>\n",
       "</g>\n",
       "<!-- 139927862286992 -->\n",
       "<g id=\"node4\" class=\"node\">\n",
       "<title>139927862286992</title>\n",
       "<polygon fill=\"#d3d3d3\" stroke=\"#000000\" points=\"127,-206 7,-206 7,-185 127,-185 127,-206\"/>\n",
       "<text text-anchor=\"middle\" x=\"67\" y=\"-192.4\" font-family=\"Times,serif\" font-size=\"12.00\" fill=\"#000000\">EmbeddingBackward</text>\n",
       "</g>\n",
       "<!-- 139927862286992&#45;&gt;139927862287888 -->\n",
       "<g id=\"edge3\" class=\"edge\">\n",
       "<title>139927862286992&#45;&gt;139927862287888</title>\n",
       "<path fill=\"none\" stroke=\"#000000\" d=\"M67,-184.9317C67,-176.0913 67,-163.2122 67,-152.3135\"/>\n",
       "<polygon fill=\"#000000\" stroke=\"#000000\" points=\"70.5001,-152.2979 67,-142.2979 63.5001,-152.2979 70.5001,-152.2979\"/>\n",
       "</g>\n",
       "<!-- 139927862288168 -->\n",
       "<g id=\"node5\" class=\"node\">\n",
       "<title>139927862288168</title>\n",
       "<polygon fill=\"#add8e6\" stroke=\"#000000\" points=\"95.5,-277 38.5,-277 38.5,-242 95.5,-242 95.5,-277\"/>\n",
       "<text text-anchor=\"middle\" x=\"67\" y=\"-249.4\" font-family=\"Times,serif\" font-size=\"12.00\" fill=\"#000000\"> (27, 64)</text>\n",
       "</g>\n",
       "<!-- 139927862288168&#45;&gt;139927862286992 -->\n",
       "<g id=\"edge4\" class=\"edge\">\n",
       "<title>139927862288168&#45;&gt;139927862286992</title>\n",
       "<path fill=\"none\" stroke=\"#000000\" d=\"M67,-241.6724C67,-233.8405 67,-224.5893 67,-216.4323\"/>\n",
       "<polygon fill=\"#000000\" stroke=\"#000000\" points=\"70.5001,-216.2234 67,-206.2234 63.5001,-216.2235 70.5001,-216.2234\"/>\n",
       "</g>\n",
       "<!-- 139927862286040 -->\n",
       "<g id=\"node6\" class=\"node\">\n",
       "<title>139927862286040</title>\n",
       "<polygon fill=\"#add8e6\" stroke=\"#000000\" points=\"215.5,-149 152.5,-149 152.5,-114 215.5,-114 215.5,-149\"/>\n",
       "<text text-anchor=\"middle\" x=\"184\" y=\"-121.4\" font-family=\"Times,serif\" font-size=\"12.00\" fill=\"#000000\"> (512, 64)</text>\n",
       "</g>\n",
       "<!-- 139927862286040&#45;&gt;139927861681680 -->\n",
       "<g id=\"edge5\" class=\"edge\">\n",
       "<title>139927862286040&#45;&gt;139927861681680</title>\n",
       "<path fill=\"none\" stroke=\"#000000\" d=\"M207.3987,-113.6724C219.4302,-104.5056 234.0138,-93.3942 245.8595,-84.3689\"/>\n",
       "<polygon fill=\"#000000\" stroke=\"#000000\" points=\"248.0923,-87.0679 253.9255,-78.2234 243.85,-81.4999 248.0923,-87.0679\"/>\n",
       "</g>\n",
       "<!-- 139927862287216 -->\n",
       "<g id=\"node7\" class=\"node\">\n",
       "<title>139927862287216</title>\n",
       "<polygon fill=\"#add8e6\" stroke=\"#000000\" points=\"302.5,-149 233.5,-149 233.5,-114 302.5,-114 302.5,-149\"/>\n",
       "<text text-anchor=\"middle\" x=\"268\" y=\"-121.4\" font-family=\"Times,serif\" font-size=\"12.00\" fill=\"#000000\"> (512, 128)</text>\n",
       "</g>\n",
       "<!-- 139927862287216&#45;&gt;139927861681680 -->\n",
       "<g id=\"edge6\" class=\"edge\">\n",
       "<title>139927862287216&#45;&gt;139927861681680</title>\n",
       "<path fill=\"none\" stroke=\"#000000\" d=\"M268,-113.6724C268,-105.8405 268,-96.5893 268,-88.4323\"/>\n",
       "<polygon fill=\"#000000\" stroke=\"#000000\" points=\"271.5001,-88.2234 268,-78.2234 264.5001,-88.2235 271.5001,-88.2234\"/>\n",
       "</g>\n",
       "<!-- 139927862287944 -->\n",
       "<g id=\"node8\" class=\"node\">\n",
       "<title>139927862287944</title>\n",
       "<polygon fill=\"#add8e6\" stroke=\"#000000\" points=\"375,-149 321,-149 321,-114 375,-114 375,-149\"/>\n",
       "<text text-anchor=\"middle\" x=\"348\" y=\"-121.4\" font-family=\"Times,serif\" font-size=\"12.00\" fill=\"#000000\"> (512)</text>\n",
       "</g>\n",
       "<!-- 139927862287944&#45;&gt;139927861681680 -->\n",
       "<g id=\"edge7\" class=\"edge\">\n",
       "<title>139927862287944&#45;&gt;139927861681680</title>\n",
       "<path fill=\"none\" stroke=\"#000000\" d=\"M325.7155,-113.6724C314.3682,-104.5946 300.6372,-93.6098 289.4155,-84.6324\"/>\n",
       "<polygon fill=\"#000000\" stroke=\"#000000\" points=\"291.3994,-81.7374 281.4043,-78.2234 287.0266,-87.2035 291.3994,-81.7374\"/>\n",
       "</g>\n",
       "<!-- 139927862287104 -->\n",
       "<g id=\"node9\" class=\"node\">\n",
       "<title>139927862287104</title>\n",
       "<polygon fill=\"#add8e6\" stroke=\"#000000\" points=\"447,-149 393,-149 393,-114 447,-114 447,-149\"/>\n",
       "<text text-anchor=\"middle\" x=\"420\" y=\"-121.4\" font-family=\"Times,serif\" font-size=\"12.00\" fill=\"#000000\"> (512)</text>\n",
       "</g>\n",
       "<!-- 139927862287104&#45;&gt;139927861681680 -->\n",
       "<g id=\"edge8\" class=\"edge\">\n",
       "<title>139927862287104&#45;&gt;139927861681680</title>\n",
       "<path fill=\"none\" stroke=\"#000000\" d=\"M392.97,-118.1049C389.9578,-116.6885 386.9229,-115.2943 384,-114 357.9617,-102.4699 328.1315,-90.5398 305.2419,-81.6507\"/>\n",
       "<polygon fill=\"#000000\" stroke=\"#000000\" points=\"306.4777,-78.376 295.8883,-78.0372 303.9551,-84.9057 306.4777,-78.376\"/>\n",
       "</g>\n",
       "</g>\n",
       "</svg>\n"
      ],
      "text/plain": [
       "<graphviz.dot.Digraph at 0x7f437de20a58>"
      ]
     },
     "execution_count": 100,
     "metadata": {
      "tags": []
     },
     "output_type": "execute_result"
    }
   ],
   "source": [
    "encoder = Encoder(vocab_size=len(src_vocab), emb_dim=64, hidden_dim=128, z_type=1)\n",
    "encoder.to(DEVICE)\n",
    "test_state = encoder(train_x[0:5])\n",
    "\n",
    "print(encoder)\n",
    "make_dot(test_state)"
   ]
  },
  {
   "cell_type": "markdown",
   "metadata": {
    "colab_type": "text",
    "id": "LP0J3v43Oy_R"
   },
   "source": [
    "#### Architecture of Decoder: Vanilla LSTM\n",
    "\n",
    "Similar to the encoder, the decoder will be a LSTM cell with one layer and one direction. \n",
    "\n",
    "<img src='https://github.com/gaguilar/basic_nlp_tutorial/blob/master/tutorial_on_seq2seq_models/images/decoder.png?raw=1' width='50%'/>\n",
    "\n",
    "<small>Photo Credit: Gustavo's slide</small>\n",
    "\n",
    "**Explanation**\n",
    "- $y_i$ is the actual token in the output sequence.\n",
    "- $q_i$ is the query vector or short-term state at step $i$.\n",
    "- $\\hat y_i$ is the predicted token at step $i$.\n",
    "- $z$ is the state generated from encoder."
   ]
  },
  {
   "cell_type": "code",
   "execution_count": 0,
   "metadata": {
    "colab": {},
    "colab_type": "code",
    "id": "PrRUzvTZOuIX"
   },
   "outputs": [],
   "source": [
    "from torch.nn import functional as F\n",
    "\n",
    "class Decoder(nn.Module):\n",
    "    def __init__(self, vocab_size, emb_dim, hidden_dim, dropout=0.5):\n",
    "        super(Decoder, self).__init__()\n",
    "        self.hidden_dim = hidden_dim\n",
    "        \n",
    "        self.emb = nn.Embedding(vocab_size, emb_dim)\n",
    "        self.lstm = nn.LSTMCell(emb_dim, hidden_dim)\n",
    "        self.drop = nn.Dropout(dropout)\n",
    "        self.clf = nn.Linear(hidden_dim, vocab_size)\n",
    "        self.objective = nn.CrossEntropyLoss(reduction=\"sum\")\n",
    "        \n",
    "    def forward(self, state, targets, curr_token, last_token):\n",
    "        device = next(self.parameters()).device\n",
    "        \n",
    "        loss = 0\n",
    "        shifted = [t + [last_token] for t in targets]\n",
    "        batch_size = state[0].shape[0]\n",
    "        seq_len = len(targets[0]) + 1\n",
    "\n",
    "        curr_tokens = [curr_token] * batch_size\n",
    "        for i in range(seq_len):\n",
    "            inp = torch.tensor(curr_tokens).to(device)\n",
    "            \n",
    "            emb = self.emb(inp)\n",
    "            emb = self.drop(emb)\n",
    "            \n",
    "            state = self.lstm(emb, state)\n",
    "            q_i, _ = state \n",
    "            q_i = self.drop(q_i)\n",
    "\n",
    "            scores = self.clf(q_i)\n",
    "\n",
    "            outs = [t[i] for t in shifted]\n",
    "            target = torch.tensor(outs).to(device)\n",
    "            loss += self.objective(scores, target)   \n",
    "            curr_tokens = outs\n",
    "\n",
    "        return loss / seq_len\n",
    "\n",
    "    def predict(self, state, curr_token, last_token, maxlen=15):\n",
    "        device = next(self.parameters()).device\n",
    "        batch_size = state[0].shape[0]\n",
    "        preds = []\n",
    "        \n",
    "        for i in range(maxlen):\n",
    "            inp = torch.tensor([curr_token]).to(device)\n",
    "            emb = self.emb(inp)\n",
    "            \n",
    "            state = self.lstm(emb, state)\n",
    "            h_i, _ = state\n",
    "            \n",
    "            scores = self.clf(h_i)\n",
    "            pred = torch.argmax(torch.softmax(scores, dim=1))\n",
    "            curr_token = pred\n",
    "            \n",
    "            if last_token == pred:\n",
    "                break\n",
    "            preds.append(pred)\n",
    "        return preds\n"
   ]
  },
  {
   "cell_type": "markdown",
   "metadata": {
    "colab_type": "text",
    "id": "nh9LLPwfCIc-"
   },
   "source": [
    "**Structure of the Vanilla LSTM Decoder**\n",
    "- *Embedding Module*: Similar to what we have in the encoder though the input to this module is $z$ state which is generated from encoder.\n",
    "- *LSTM Cell*: LSTM is applied to learn the pattern of the sequence. We use a LSTM cell here and implement since it only return only the last state. So that we can implement a loop of learning with the number of interation is equal to the length of the output sequence.\n",
    "- *Dropout Module*: Similar to what we have in the encoder.\n",
    "- *Linear Module*: To transform the $q_i$ query vector to a vector in vocabulary space.\n",
    "- *Cross Entropy Loss*: To compute the different between prediction and actual token. This module is a combination of both *Log Softmax Loss* and *Negative Log Likelihood Loss*. It is useful when training a classification problem with C classes. In our case, we try to predict a character in a set of vocabulary. Because we are processing batch-by-batch, we enable the reduction step to summarize all the losses of each sequence.\n"
   ]
  },
  {
   "cell_type": "code",
   "execution_count": 103,
   "metadata": {
    "colab": {
     "base_uri": "https://localhost:8080/",
     "height": 136
    },
    "colab_type": "code",
    "id": "r7PukMZaB9RY",
    "outputId": "a1cb609d-afed-425c-fdae-a0f5e68c2960"
   },
   "outputs": [
    {
     "name": "stdout",
     "output_type": "stream",
     "text": [
      "Decoder(\n",
      "  (emb): Embedding(29, 64)\n",
      "  (lstm): LSTMCell(64, 128)\n",
      "  (drop): Dropout(p=0.5, inplace=False)\n",
      "  (clf): Linear(in_features=128, out_features=29, bias=True)\n",
      "  (objective): CrossEntropyLoss()\n",
      ")\n"
     ]
    }
   ],
   "source": [
    "decoder = Decoder(vocab_size=len(tgt_vocab), emb_dim=64, hidden_dim=128)\n",
    "print(decoder)"
   ]
  },
  {
   "cell_type": "markdown",
   "metadata": {
    "colab_type": "text",
    "id": "wVhHXZ9IOy_V"
   },
   "source": [
    "#### Architecture of Decoder: LSTM + Attention\n",
    "\n",
    "The attention version that we use for this implementation is Luong's attention, also known as multiplicative attention. [Effective Approaches to Attention-based Neural Machine Translation\n",
    "Minh-Thang Luong, Hieu Pham, Christopher D. Manning](https://arxiv.org/abs/1508.04025)\n",
    "\n",
    "Consider the encoder outputs $h = [h_1, h_2, \\dots, h_n]$, and the query vector $q_j$ of the decoding time step $j$ as the hidden vector of the decoder LSTM, then we define multiplicative attention as follows:\n",
    "\n",
    "$$\n",
    "\\begin{align}\n",
    "u_i &= v^\\intercal tanh(W [h_i , q_j]) \\\\\n",
    "\\alpha_i &= \\frac{exp(u_i)}{\\sum^N_k exp(u_k)} \\\\\n",
    "c_i &= \\sum^N_i \\alpha_i h_i\n",
    "\\end{align}\n",
    "$$\n",
    "\n",
    "The implementation is as follows:"
   ]
  },
  {
   "cell_type": "code",
   "execution_count": 0,
   "metadata": {
    "colab": {},
    "colab_type": "code",
    "id": "SdCkypRWOy_V"
   },
   "outputs": [],
   "source": [
    "class Attention(nn.Module):\n",
    "    def __init__(self, input_dim, attn_dim):\n",
    "        super(Attention, self).__init__()\n",
    "        self.W = nn.Linear(input_dim, attn_dim)\n",
    "        self.v = nn.Linear(attn_dim, 1, bias=False)\n",
    "        \n",
    "    def forward(self, dec_hidden, enc_outs):\n",
    "        seqlen = enc_outs.size(1)\n",
    "        \n",
    "        repeat_h = dec_hidden.unsqueeze(1)  # make room to repeat on seqlen dim\n",
    "        repeat_h = repeat_h.repeat(1, seqlen, 1)  # (1, seqlen, hidden)\n",
    "\n",
    "        concat_h = torch.cat((enc_outs, repeat_h), dim=2) # (1, seqlen, hidden*2)\n",
    "        \n",
    "        scores = self.v(torch.tanh(self.W(concat_h))) # (1, seqlen, 1)\n",
    "        probs = torch.softmax(scores, dim=1)\n",
    "        \n",
    "        weighted = enc_outs * probs # (1, seqlen, hidden)\n",
    "        \n",
    "        context = torch.sum(weighted, dim=1, keepdim=False) # (1, hidden)\n",
    "        combined = torch.cat((dec_hidden, context), dim=1)  # (1, hidden*2)\n",
    "        \n",
    "        return combined"
   ]
  },
  {
   "cell_type": "markdown",
   "metadata": {
    "colab_type": "text",
    "id": "sWWjC-D_EdmW"
   },
   "source": [
    "<table>\n",
    "    <tr>\n",
    "    <td><img src=\"https://api.monosnap.com/file/download?id=whilNaVgdGuahVjqqiljSg8RI39ZGe\" width=\"500\" /></td>\n",
    "    <td><img src=\"https://api.monosnap.com/file/download?id=fI5u0x0Pzn0YwTmQ7EogLGs7XM83PA\" width=\"500\" /></td>\n",
    "    </tr>\n",
    "</table>\n",
    "\n",
    "**Structure of An Attention Module**  \n",
    "- At each step $i$ in the decoder we have a query vector $q_i$.\n",
    "- At each step $j$ in the encoder we also have a short-term state $h_j$.\n",
    "- To identify which steps/states in the encoder that we should pay more attention, we use Luong's (multiplicative) score function then use a softmax function to compute the corresponding contribution (weight $\\alpha_i$) of each state.\n",
    "- Sum of the weighted stated we have a proper context $c_i$.\n",
    "- Finally, combine the context $c_i$ with the query vector $q_i$, we have a new query vector with attention $q_{i_{combine}} = [q_i, c_i]$."
   ]
  },
  {
   "cell_type": "code",
   "execution_count": 109,
   "metadata": {
    "colab": {
     "base_uri": "https://localhost:8080/",
     "height": 85
    },
    "colab_type": "code",
    "id": "Emk7KppYEWPM",
    "outputId": "4f3cc623-2b1a-472c-d4d3-a3191500a295"
   },
   "outputs": [
    {
     "name": "stdout",
     "output_type": "stream",
     "text": [
      "Attention(\n",
      "  (W): Linear(in_features=256, out_features=64, bias=True)\n",
      "  (v): Linear(in_features=64, out_features=1, bias=False)\n",
      ")\n"
     ]
    }
   ],
   "source": [
    "attention = Attention(256, 64)\n",
    "print(attention)"
   ]
  },
  {
   "cell_type": "markdown",
   "metadata": {
    "colab_type": "text",
    "id": "oF1pdztpOy_X"
   },
   "source": [
    "Since we want the decoder to focus on the right hidden outputs of the encoder, we need the to modify the decoder:"
   ]
  },
  {
   "cell_type": "code",
   "execution_count": 0,
   "metadata": {
    "colab": {},
    "colab_type": "code",
    "id": "J6hldX8dOy_Y"
   },
   "outputs": [],
   "source": [
    "class AttentionDecoder(nn.Module):\n",
    "    def __init__(self, vocab_size, emb_dim, hidden_dim, attn_size):\n",
    "        super(AttentionDecoder, self).__init__()\n",
    "        \n",
    "        self.hidden_dim = hidden_dim\n",
    "        \n",
    "        self.emb = nn.Embedding(vocab_size, emb_dim)\n",
    "        self.lstm = nn.LSTMCell(emb_dim, hidden_dim)\n",
    "        self.drop = nn.Dropout(0.5)\n",
    "        self.attn = Attention(hidden_dim * 2, attn_size)\n",
    "        self.clf = nn.Linear(hidden_dim * 2, vocab_size)\n",
    "        self.objective = nn.CrossEntropyLoss(reduction=\"sum\")\n",
    "        \n",
    "    def init_state(self, device, batch_size=1):\n",
    "        h_0 = torch.zeros(batch_size, self.hidden_dim).to(device)  # (batch, hidden_size)\n",
    "        c_0 = torch.zeros(batch_size, self.hidden_dim).to(device)  # (batch, hidden_size)\n",
    "        return h_0, c_0\n",
    "        \n",
    "    def forward(self, enc_outs, targets, curr_token, last_token):\n",
    "        loss = 0\n",
    "        batch_size = enc_outs.size(0)\n",
    "        device = enc_outs.device\n",
    "\n",
    "        state = self.init_state(device, batch_size=batch_size)\n",
    "        shifted = [t + [last_token] for t in targets]\n",
    "        curr_tokens = [curr_token] * batch_size\n",
    "        seq_len = len(targets[0]) + 1\n",
    "\n",
    "        for i in range(seq_len):\n",
    "            inp = torch.tensor(curr_tokens).to(device) # (1,)\n",
    "            \n",
    "            emb = self.emb(inp) # (1, emb_dim)\n",
    "            emb = self.drop(emb)\n",
    "            \n",
    "            state = self.lstm(emb, state)\n",
    "            q_i, _ = state \n",
    "            q_i = self.drop(q_i) # (1, emb_dim)\n",
    "            \n",
    "            combined = self.attn(q_i, enc_outs)     \n",
    "            scores = self.clf(combined)\n",
    "\n",
    "            outs = [t[i] for t in shifted]\n",
    "            target = torch.tensor(outs).to(device)\n",
    "\n",
    "            loss += self.objective(scores, target)\n",
    "            \n",
    "            curr_tokens = outs\n",
    "            \n",
    "        return loss / seq_len\n",
    "\n",
    "    def predict(self, enc_outs, curr_token, last_token, maxlen):\n",
    "        preds = []\n",
    "        device = enc_outs.device\n",
    "        state = self.init_state(device)\n",
    "        \n",
    "        for i in range(maxlen):\n",
    "            inp = torch.tensor([curr_token]).to(device)\n",
    "            emb = self.emb(inp)\n",
    "            \n",
    "            state = self.lstm(emb, state)\n",
    "            q_i, _ = state\n",
    "            \n",
    "            combined = self.attn(q_i, enc_outs)\n",
    "            \n",
    "            scores = self.clf(combined)\n",
    "            pred = torch.argmax(torch.softmax(scores, dim=1))\n",
    "            curr_token = pred\n",
    "            \n",
    "            if last_token == pred:\n",
    "                break\n",
    "                \n",
    "            preds.append(pred)\n",
    "        return preds"
   ]
  },
  {
   "cell_type": "markdown",
   "metadata": {
    "colab_type": "text",
    "id": "wPXeFUIQD10O"
   },
   "source": [
    "**Structure of Attention Decoder**\n",
    "\n",
    "<img src=\"https://api.monosnap.com/file/download?id=I2mEObBRNHaQs1ybxxZitbb5QjTLqQ\" width=\"500\"/>\n",
    "\n",
    "- All other modules are same as in the Vanilla LSTM Decoder. The only additional module is Attention Module.\n",
    "- *Attention Module*: The only difference between Attention Decoder and Attention module is the query vector $q_i$ that is used to predict the token. While $q_i$ is passed directly to the *Linear Module* in Vanilla LSTM, it needs to go through the *Attention Module* and transform into $q_{i_{combine}} = [q_i, c_i]$ with Attention mechanism before passing to the *Linear Module*.\n"
   ]
  },
  {
   "cell_type": "code",
   "execution_count": 106,
   "metadata": {
    "colab": {
     "base_uri": "https://localhost:8080/",
     "height": 204
    },
    "colab_type": "code",
    "id": "XP7pncwNDzU-",
    "outputId": "0055d934-b864-4eac-81eb-bdd867d22d84"
   },
   "outputs": [
    {
     "name": "stdout",
     "output_type": "stream",
     "text": [
      "AttentionDecoder(\n",
      "  (emb): Embedding(29, 64)\n",
      "  (lstm): LSTMCell(64, 128)\n",
      "  (drop): Dropout(p=0.5, inplace=False)\n",
      "  (attn): Attention(\n",
      "    (W): Linear(in_features=256, out_features=64, bias=True)\n",
      "    (v): Linear(in_features=64, out_features=1, bias=False)\n",
      "  )\n",
      "  (clf): Linear(in_features=256, out_features=29, bias=True)\n",
      "  (objective): CrossEntropyLoss()\n",
      ")\n"
     ]
    }
   ],
   "source": [
    "decoder = AttentionDecoder(vocab_size=len(tgt_vocab), emb_dim=64, hidden_dim=128, attn_size=64)\n",
    "print(decoder)"
   ]
  },
  {
   "cell_type": "markdown",
   "metadata": {
    "colab_type": "text",
    "id": "GUKqsWhfY1Qy"
   },
   "source": [
    "#### Test to make sure each unit of the whole model work"
   ]
  },
  {
   "cell_type": "markdown",
   "metadata": {
    "colab_type": "text",
    "id": "ceHWJsqVb7A5"
   },
   "source": [
    "##### **Test Encoder + Decoder: Vanilla LSTM**"
   ]
  },
  {
   "cell_type": "code",
   "execution_count": 0,
   "metadata": {
    "colab": {},
    "colab_type": "code",
    "id": "eCHsvHkCiZE0"
   },
   "outputs": [],
   "source": [
    "encoder = Encoder(vocab_size=len(src_vocab), emb_dim=64, hidden_dim=128, z_type=1)\n",
    "decoder = Decoder(vocab_size=len(tgt_vocab), emb_dim=64, hidden_dim=128)\n",
    "# encoder\n",
    "# decoder\n",
    "\n",
    "# Map to CPU or GPU\n",
    "encoder.to(DEVICE)\n",
    "decoder.to(DEVICE)\n",
    "\n",
    "test_state = encoder(train_x[0:2])\n",
    "test_loss = decoder(test_state, train_y[0:2], START_IX, STOP_IX)\n",
    "\n",
    "# make_dot(test_state)\n",
    "# make_dot(test_loss)"
   ]
  },
  {
   "cell_type": "markdown",
   "metadata": {
    "colab_type": "text",
    "id": "v481CwKncASm"
   },
   "source": [
    "##### **Test Encoder + Decoder: LSTM + Attention**"
   ]
  },
  {
   "cell_type": "code",
   "execution_count": 0,
   "metadata": {
    "colab": {},
    "colab_type": "code",
    "id": "U8Mm26v72Kf8"
   },
   "outputs": [],
   "source": [
    "# Test Encoder + Decoder: LSTM + Attention\n",
    "encoder = Encoder(vocab_size=len(src_vocab), emb_dim=64, hidden_dim=128, z_type=0)\n",
    "decoder = AttentionDecoder(vocab_size=len(tgt_vocab), emb_dim=64, hidden_dim=128, attn_size=64)\n",
    "\n",
    "encoder.to(DEVICE)\n",
    "decoder.to(DEVICE)\n",
    "\n",
    "test_state = encoder(train_x[0:2])\n",
    "test_loss = decoder(test_state, train_y[0:2], START_IX, STOP_IX)\n",
    "\n",
    "# make_dot(test_state)\n",
    "# make_dot(test_loss)"
   ]
  },
  {
   "cell_type": "markdown",
   "metadata": {
    "colab_type": "text",
    "id": "obIcv4FZdlBg"
   },
   "source": [
    "### 4. Training"
   ]
  },
  {
   "cell_type": "markdown",
   "metadata": {
    "colab_type": "text",
    "id": "uYIaTzQCEpo4"
   },
   "source": [
    "Steps of training:\n",
    "- For each epoch in $n$ epoches\n",
    "    - Shuffle training data\n",
    "    - Train the encoder and decoder with batch-by-batch data (50 samples per batch) from training data set. Optimizers are used in this training process is SGD. (Still think about other optimizers that are more appropriate)\n",
    "    - Evalulate with validating data.\n",
    "    - Compare the evaluating loss with the bess loss so far, if the new loss is lesser. Store model at that state."
   ]
  },
  {
   "cell_type": "code",
   "execution_count": 0,
   "metadata": {
    "colab": {},
    "colab_type": "code",
    "id": "vjC7dGEqhYOL"
   },
   "outputs": [],
   "source": [
    "def shuffle(x, y):\n",
    "    pack = list(zip(x, y))\n",
    "    random.shuffle(pack)\n",
    "    return zip(*pack)"
   ]
  },
  {
   "cell_type": "code",
   "execution_count": 0,
   "metadata": {
    "colab": {},
    "colab_type": "code",
    "id": "51SxA03GOy_a"
   },
   "outputs": [],
   "source": [
    "def train(encoder, decoder, train_x, train_y, epoch, batch_size=50, print_every=1):\n",
    "    x = []\n",
    "    y = []\n",
    "    device = torch.device('cuda' if torch.cuda.is_available() else 'cpu')\n",
    "    \n",
    "    encoder.to(device)\n",
    "    decoder.to(device)\n",
    "\n",
    "    enc_optim = optim.SGD(encoder.parameters(), lr=0.001, momentum=0.99)\n",
    "    dec_optim = optim.SGD(decoder.parameters(), lr=0.001, momentum=0.99)\n",
    "\n",
    "    encoder.train()\n",
    "    decoder.train()\n",
    "\n",
    "    encoder.zero_grad(); enc_optim.zero_grad()\n",
    "    decoder.zero_grad(); dec_optim.zero_grad()\n",
    "\n",
    "    train_x, train_y = shuffle(train_x, train_y)\n",
    "\n",
    "    epoch_loss = 0\n",
    "    batch_loss = 0    \n",
    "    \n",
    "    for i in range(len(train_x)):\n",
    "        x.append(train_x[i]) \n",
    "        y.append(train_y[i])\n",
    "\n",
    "        \n",
    "\n",
    "        if (i+1) % batch_size == 0:\n",
    "            encoded = encoder(x)\n",
    "            batch_loss = decoder(encoded, y, START_IX, STOP_IX)\n",
    "            batch_loss.backward()\n",
    "            \n",
    "            enc_optim.step()\n",
    "            dec_optim.step()\n",
    "\n",
    "            encoder.zero_grad(); enc_optim.zero_grad()\n",
    "            decoder.zero_grad(); dec_optim.zero_grad()\n",
    "\n",
    "            epoch_loss += batch_loss.item()\n",
    "            batch_loss = 0\n",
    "            x = []\n",
    "            y = []\n",
    "\n",
    "    if epoch % print_every == 0:\n",
    "        print(f\"[TRAIN] Epoch {epoch} - Loss: {epoch_loss / len(train_x):.6f}\")\n",
    "    return encoder, decoder, epoch_loss / len(train_x)"
   ]
  },
  {
   "cell_type": "code",
   "execution_count": 0,
   "metadata": {
    "colab": {},
    "colab_type": "code",
    "id": "EtiIaM0IJJHq"
   },
   "outputs": [],
   "source": [
    "def evaluate(encoder, decoder, valid_x, valid_y, epoch, batch_size=50, print_every=1):\n",
    "    device = torch.device('cuda' if torch.cuda.is_available() else 'cpu')\n",
    "    x = []\n",
    "    y = []\n",
    "    encoder.to(device)\n",
    "    decoder.to(device)\n",
    "\n",
    "    encoder.eval()\n",
    "    decoder.eval()\n",
    "\n",
    "    epoch_loss = 0\n",
    "    batch_loss = 0    \n",
    "    \n",
    "    for i in range(len(valid_x)):\n",
    "        x.append(valid_x[i]) \n",
    "        y.append(valid_y[i])\n",
    "\n",
    "        if (i+1) % batch_size == 0:\n",
    "            encoded = encoder(x)\n",
    "            batch_loss = decoder(encoded, y, START_IX, STOP_IX)\n",
    "            \n",
    "            epoch_loss += batch_loss.item()\n",
    "            batch_loss = 0\n",
    "            x = []\n",
    "            y = []\n",
    "\n",
    "    if epoch % print_every == 0:\n",
    "        print(f\"[EVAL] Epoch {epoch} - Loss: {epoch_loss / len(valid_x):.6f}\")\n",
    "    return encoder, decoder, epoch_loss / len(valid_x)"
   ]
  },
  {
   "cell_type": "code",
   "execution_count": 0,
   "metadata": {
    "colab": {},
    "colab_type": "code",
    "id": "V45wyvkCJOWP"
   },
   "outputs": [],
   "source": [
    "def track_best_model(model_path, encoder, decoder, epoch, best_loss, new_loss, valid_x_len, losses=None):\n",
    "    if best_loss != None and best_loss < new_loss:\n",
    "        return False\n",
    "    \n",
    "    state = {\n",
    "        'epoch': epoch,\n",
    "        'loss': new_loss,\n",
    "        'losses': losses,\n",
    "        'encoder': encoder.state_dict(),\n",
    "        'decoder': decoder.state_dict()\n",
    "    }\n",
    "    torch.save(state, model_path)\n",
    "    print('[*] Stored best model to %s' % model_path)\n",
    "    return new_loss"
   ]
  },
  {
   "cell_type": "code",
   "execution_count": 0,
   "metadata": {
    "colab": {},
    "colab_type": "code",
    "id": "wJqB6sq07jL_"
   },
   "outputs": [],
   "source": [
    "def train_loop(encoder, decoder, train_x, train_y, \n",
    "               validate=False, valid_x=None, valid_y=None,\n",
    "               verbose=True, epochs=100, patient_epochs=10, \n",
    "               early_stop=False, threshold=0.01, print_every=1,\n",
    "               store_best_model=False, store_after_epochs=1,\n",
    "               store_path=None):\n",
    "    \n",
    "    best_loss = None\n",
    "    train_loss = None\n",
    "    valid_loss = None\n",
    "\n",
    "    train_losses = []\n",
    "    valid_losses = []\n",
    "\n",
    "    # TODO: Implement early stop\n",
    "    patient_count = 0\n",
    "\n",
    "    if verbose:\n",
    "        print(encoder)\n",
    "        print(decoder)\n",
    "\n",
    "    print('Start: ', datetime.now())\n",
    "    for epoch in range(1, epochs+1):\n",
    "        encoder, decoder, train_loss = train(encoder, decoder, train_x, train_y, epoch, batch_size = 50, print_every=1)\n",
    "        \n",
    "        if validate:\n",
    "             encoder, decoder, valid_loss = evaluate(encoder, decoder, valid_x, valid_y, epoch, batch_size=50, print_every=1)\n",
    "        \n",
    "        if store_best_model:\n",
    "            assert store_path is not None, \"Please provide model path for storing\"\n",
    "\n",
    "            losses = {\n",
    "                'train_losses': train_losses + [train_loss],\n",
    "                'valid_losses': valid_losses + [valid_loss] if validate else valid_losses\n",
    "            }\n",
    "            if epoch > store_after_epochs:\n",
    "                if validate:\n",
    "                    best_loss = min(valid_losses) if valid_losses else 2e32\n",
    "                    track_best_model(store_path, encoder, decoder, epoch, best_loss, valid_loss, len(valid_x), losses=losses)\n",
    "                else:\n",
    "                    best_loss = min(train_losses) if train_losses else 2e32\n",
    "                    track_best_model(store_path, encoder, decoder, epoch, best_loss, train_loss, len(train_x), losses=losses) \n",
    "\n",
    "        train_losses.append(train_loss)\n",
    "        if validate:\n",
    "            valid_losses.append(valid_loss)\n",
    "    \n",
    "    print('Start: ', datetime.now())\n",
    "    return encoder, decoder, train_losses, valid_losses\n"
   ]
  },
  {
   "cell_type": "markdown",
   "metadata": {
    "colab_type": "text",
    "id": "07gsz8-YOy_a"
   },
   "source": [
    "#### Train the Model: Vanilla Seq2Seq\n",
    "\n",
    "During training, we pass the targets to the decoder so that it can be used as the ideal input at time step $i$, instead of using the decoder predictions of the previous time step $i-1$.\n",
    "\n",
    "<img src='https://github.com/gaguilar/basic_nlp_tutorial/blob/master/tutorial_on_seq2seq_models/images/encoder-decoder-lstm.png?raw=1' width='80%'/>"
   ]
  },
  {
   "cell_type": "code",
   "execution_count": 0,
   "metadata": {
    "colab": {
     "base_uri": "https://localhost:8080/",
     "height": 1000
    },
    "colab_type": "code",
    "id": "s2xqxtlTJVaa",
    "outputId": "cc26e76a-91fd-4c7e-f555-5629f6f4ed1a"
   },
   "outputs": [
    {
     "name": "stdout",
     "output_type": "stream",
     "text": [
      "Encoder(\n",
      "  (emb): Embedding(27, 64)\n",
      "  (lstm): LSTM(64, 128, batch_first=True)\n",
      "  (drop): Dropout(p=0.5, inplace=False)\n",
      ")\n",
      "Decoder(\n",
      "  (emb): Embedding(29, 64)\n",
      "  (lstm): LSTMCell(64, 128)\n",
      "  (clf): Linear(in_features=128, out_features=29, bias=True)\n",
      "  (drop): Dropout(p=0.5, inplace=False)\n",
      "  (objective): CrossEntropyLoss()\n",
      ")\n",
      "Start:  2020-04-10 19:37:42.498339\n",
      "[TRAIN] Epoch 1 - Loss: 1.517220\n",
      "[EVAL] Epoch 1 - Loss: 1.277119\n",
      "[TRAIN] Epoch 2 - Loss: 1.328496\n",
      "[EVAL] Epoch 2 - Loss: 1.266918\n",
      "[TRAIN] Epoch 3 - Loss: 1.308332\n",
      "[EVAL] Epoch 3 - Loss: 1.263388\n",
      "[TRAIN] Epoch 4 - Loss: 1.300881\n",
      "[EVAL] Epoch 4 - Loss: 1.259731\n",
      "[TRAIN] Epoch 5 - Loss: 1.293016\n",
      "[EVAL] Epoch 5 - Loss: 1.259490\n",
      "[TRAIN] Epoch 6 - Loss: 1.290775\n",
      "[EVAL] Epoch 6 - Loss: 1.257853\n",
      "[TRAIN] Epoch 7 - Loss: 1.285655\n",
      "[EVAL] Epoch 7 - Loss: 1.256486\n",
      "[TRAIN] Epoch 8 - Loss: 1.283903\n",
      "[EVAL] Epoch 8 - Loss: 1.258542\n",
      "[TRAIN] Epoch 9 - Loss: 1.281834\n",
      "[EVAL] Epoch 9 - Loss: 1.256034\n",
      "[TRAIN] Epoch 10 - Loss: 1.278887\n",
      "[EVAL] Epoch 10 - Loss: 1.252474\n",
      "[TRAIN] Epoch 11 - Loss: 1.266413\n",
      "[EVAL] Epoch 11 - Loss: 1.215951\n",
      "[TRAIN] Epoch 12 - Loss: 1.228477\n",
      "[EVAL] Epoch 12 - Loss: 1.184131\n",
      "[TRAIN] Epoch 13 - Loss: 1.211007\n",
      "[EVAL] Epoch 13 - Loss: 1.171459\n",
      "[TRAIN] Epoch 14 - Loss: 1.180569\n",
      "[EVAL] Epoch 14 - Loss: 1.107141\n",
      "[TRAIN] Epoch 15 - Loss: 1.137366\n",
      "[EVAL] Epoch 15 - Loss: 1.078564\n",
      "[TRAIN] Epoch 16 - Loss: 1.096385\n",
      "[EVAL] Epoch 16 - Loss: 1.013817\n",
      "[TRAIN] Epoch 17 - Loss: 1.040587\n",
      "[EVAL] Epoch 17 - Loss: 0.970235\n",
      "[TRAIN] Epoch 18 - Loss: 1.005432\n",
      "[EVAL] Epoch 18 - Loss: 0.951383\n",
      "[TRAIN] Epoch 19 - Loss: 0.981860\n",
      "[EVAL] Epoch 19 - Loss: 0.918729\n",
      "[TRAIN] Epoch 20 - Loss: 0.942290\n",
      "[EVAL] Epoch 20 - Loss: 0.854795\n",
      "[TRAIN] Epoch 21 - Loss: 0.878190\n",
      "[EVAL] Epoch 21 - Loss: 0.767103\n",
      "[TRAIN] Epoch 22 - Loss: 0.813481\n",
      "[EVAL] Epoch 22 - Loss: 0.728267\n",
      "[TRAIN] Epoch 23 - Loss: 0.774922\n",
      "[EVAL] Epoch 23 - Loss: 0.685008\n",
      "[TRAIN] Epoch 24 - Loss: 0.732252\n",
      "[EVAL] Epoch 24 - Loss: 0.650280\n",
      "[TRAIN] Epoch 25 - Loss: 0.692915\n",
      "[EVAL] Epoch 25 - Loss: 0.590967\n",
      "[TRAIN] Epoch 26 - Loss: 0.655893\n",
      "[EVAL] Epoch 26 - Loss: 0.576928\n",
      "[TRAIN] Epoch 27 - Loss: 0.627249\n",
      "[EVAL] Epoch 27 - Loss: 0.540866\n",
      "[TRAIN] Epoch 28 - Loss: 0.590893\n",
      "[EVAL] Epoch 28 - Loss: 0.524513\n",
      "[TRAIN] Epoch 29 - Loss: 0.569489\n",
      "[EVAL] Epoch 29 - Loss: 0.510711\n",
      "[TRAIN] Epoch 30 - Loss: 0.553573\n",
      "[EVAL] Epoch 30 - Loss: 0.496115\n",
      "[TRAIN] Epoch 31 - Loss: 0.535576\n",
      "[EVAL] Epoch 31 - Loss: 0.489664\n",
      "[TRAIN] Epoch 32 - Loss: 0.525485\n",
      "[EVAL] Epoch 32 - Loss: 0.478582\n",
      "[TRAIN] Epoch 33 - Loss: 0.507947\n",
      "[EVAL] Epoch 33 - Loss: 0.462443\n",
      "[TRAIN] Epoch 34 - Loss: 0.490100\n",
      "[EVAL] Epoch 34 - Loss: 0.433681\n",
      "[TRAIN] Epoch 35 - Loss: 0.470046\n",
      "[EVAL] Epoch 35 - Loss: 0.422451\n",
      "[TRAIN] Epoch 36 - Loss: 0.451299\n",
      "[EVAL] Epoch 36 - Loss: 0.393277\n",
      "[TRAIN] Epoch 37 - Loss: 0.431885\n",
      "[EVAL] Epoch 37 - Loss: 0.373099\n",
      "[TRAIN] Epoch 38 - Loss: 0.408137\n",
      "[EVAL] Epoch 38 - Loss: 0.357338\n",
      "[TRAIN] Epoch 39 - Loss: 0.395537\n",
      "[EVAL] Epoch 39 - Loss: 0.350537\n",
      "[TRAIN] Epoch 40 - Loss: 0.384331\n",
      "[EVAL] Epoch 40 - Loss: 0.339177\n",
      "[TRAIN] Epoch 41 - Loss: 0.375792\n",
      "[EVAL] Epoch 41 - Loss: 0.336229\n",
      "[TRAIN] Epoch 42 - Loss: 0.370475\n",
      "[EVAL] Epoch 42 - Loss: 0.328670\n",
      "[TRAIN] Epoch 43 - Loss: 0.364531\n",
      "[EVAL] Epoch 43 - Loss: 0.312675\n",
      "[TRAIN] Epoch 44 - Loss: 0.345822\n",
      "[EVAL] Epoch 44 - Loss: 0.282665\n",
      "[TRAIN] Epoch 45 - Loss: 0.320906\n",
      "[EVAL] Epoch 45 - Loss: 0.257913\n",
      "[TRAIN] Epoch 46 - Loss: 0.300259\n",
      "[EVAL] Epoch 46 - Loss: 0.239325\n",
      "[TRAIN] Epoch 47 - Loss: 0.284887\n",
      "[EVAL] Epoch 47 - Loss: 0.226779\n",
      "[TRAIN] Epoch 48 - Loss: 0.264572\n",
      "[EVAL] Epoch 48 - Loss: 0.195540\n",
      "[TRAIN] Epoch 49 - Loss: 0.242198\n",
      "[EVAL] Epoch 49 - Loss: 0.182294\n",
      "[TRAIN] Epoch 50 - Loss: 0.231169\n",
      "[EVAL] Epoch 50 - Loss: 0.180430\n",
      "[TRAIN] Epoch 51 - Loss: 0.222204\n",
      "[EVAL] Epoch 51 - Loss: 0.173055\n",
      "[*] Stored best model to /content/drive/My Drive/Colab Notebooks/data/NLP/HW3/output/seq2seq.pt\n",
      "[TRAIN] Epoch 52 - Loss: 0.210342\n",
      "[EVAL] Epoch 52 - Loss: 0.168590\n",
      "[*] Stored best model to /content/drive/My Drive/Colab Notebooks/data/NLP/HW3/output/seq2seq.pt\n",
      "[TRAIN] Epoch 53 - Loss: 0.208671\n",
      "[EVAL] Epoch 53 - Loss: 0.163282\n",
      "[*] Stored best model to /content/drive/My Drive/Colab Notebooks/data/NLP/HW3/output/seq2seq.pt\n",
      "[TRAIN] Epoch 54 - Loss: 0.205683\n",
      "[EVAL] Epoch 54 - Loss: 0.164373\n",
      "[TRAIN] Epoch 55 - Loss: 0.200164\n",
      "[EVAL] Epoch 55 - Loss: 0.155430\n",
      "[*] Stored best model to /content/drive/My Drive/Colab Notebooks/data/NLP/HW3/output/seq2seq.pt\n",
      "[TRAIN] Epoch 56 - Loss: 0.197127\n",
      "[EVAL] Epoch 56 - Loss: 0.156970\n",
      "[TRAIN] Epoch 57 - Loss: 0.201461\n",
      "[EVAL] Epoch 57 - Loss: 0.170474\n",
      "[TRAIN] Epoch 58 - Loss: 0.198417\n",
      "[EVAL] Epoch 58 - Loss: 0.159789\n",
      "[TRAIN] Epoch 59 - Loss: 0.191257\n",
      "[EVAL] Epoch 59 - Loss: 0.154609\n",
      "[*] Stored best model to /content/drive/My Drive/Colab Notebooks/data/NLP/HW3/output/seq2seq.pt\n",
      "[TRAIN] Epoch 60 - Loss: 0.190631\n",
      "[EVAL] Epoch 60 - Loss: 0.155775\n",
      "[TRAIN] Epoch 61 - Loss: 0.192320\n",
      "[EVAL] Epoch 61 - Loss: 0.157597\n",
      "[TRAIN] Epoch 62 - Loss: 0.186156\n",
      "[EVAL] Epoch 62 - Loss: 0.150812\n",
      "[*] Stored best model to /content/drive/My Drive/Colab Notebooks/data/NLP/HW3/output/seq2seq.pt\n",
      "[TRAIN] Epoch 63 - Loss: 0.186481\n",
      "[EVAL] Epoch 63 - Loss: 0.147911\n",
      "[*] Stored best model to /content/drive/My Drive/Colab Notebooks/data/NLP/HW3/output/seq2seq.pt\n",
      "[TRAIN] Epoch 64 - Loss: 0.180016\n",
      "[EVAL] Epoch 64 - Loss: 0.143204\n",
      "[*] Stored best model to /content/drive/My Drive/Colab Notebooks/data/NLP/HW3/output/seq2seq.pt\n",
      "[TRAIN] Epoch 65 - Loss: 0.167275\n",
      "[EVAL] Epoch 65 - Loss: 0.132007\n",
      "[*] Stored best model to /content/drive/My Drive/Colab Notebooks/data/NLP/HW3/output/seq2seq.pt\n",
      "[TRAIN] Epoch 66 - Loss: 0.163314\n",
      "[EVAL] Epoch 66 - Loss: 0.124548\n",
      "[*] Stored best model to /content/drive/My Drive/Colab Notebooks/data/NLP/HW3/output/seq2seq.pt\n",
      "[TRAIN] Epoch 67 - Loss: 0.158202\n",
      "[EVAL] Epoch 67 - Loss: 0.127289\n",
      "[TRAIN] Epoch 68 - Loss: 0.158425\n",
      "[EVAL] Epoch 68 - Loss: 0.119790\n",
      "[*] Stored best model to /content/drive/My Drive/Colab Notebooks/data/NLP/HW3/output/seq2seq.pt\n",
      "[TRAIN] Epoch 69 - Loss: 0.160466\n",
      "[EVAL] Epoch 69 - Loss: 0.131746\n",
      "[TRAIN] Epoch 70 - Loss: 0.159167\n",
      "[EVAL] Epoch 70 - Loss: 0.110133\n",
      "[*] Stored best model to /content/drive/My Drive/Colab Notebooks/data/NLP/HW3/output/seq2seq.pt\n",
      "[TRAIN] Epoch 71 - Loss: 0.145593\n",
      "[EVAL] Epoch 71 - Loss: 0.107215\n",
      "[*] Stored best model to /content/drive/My Drive/Colab Notebooks/data/NLP/HW3/output/seq2seq.pt\n",
      "[TRAIN] Epoch 72 - Loss: 0.138549\n",
      "[EVAL] Epoch 72 - Loss: 0.101770\n",
      "[*] Stored best model to /content/drive/My Drive/Colab Notebooks/data/NLP/HW3/output/seq2seq.pt\n",
      "[TRAIN] Epoch 73 - Loss: 0.130976\n",
      "[EVAL] Epoch 73 - Loss: 0.097118\n",
      "[*] Stored best model to /content/drive/My Drive/Colab Notebooks/data/NLP/HW3/output/seq2seq.pt\n",
      "[TRAIN] Epoch 74 - Loss: 0.122577\n",
      "[EVAL] Epoch 74 - Loss: 0.082881\n",
      "[*] Stored best model to /content/drive/My Drive/Colab Notebooks/data/NLP/HW3/output/seq2seq.pt\n",
      "[TRAIN] Epoch 75 - Loss: 0.114476\n",
      "[EVAL] Epoch 75 - Loss: 0.067399\n",
      "[*] Stored best model to /content/drive/My Drive/Colab Notebooks/data/NLP/HW3/output/seq2seq.pt\n",
      "[TRAIN] Epoch 76 - Loss: 0.099960\n",
      "[EVAL] Epoch 76 - Loss: 0.058659\n",
      "[*] Stored best model to /content/drive/My Drive/Colab Notebooks/data/NLP/HW3/output/seq2seq.pt\n",
      "[TRAIN] Epoch 77 - Loss: 0.089159\n",
      "[EVAL] Epoch 77 - Loss: 0.052936\n",
      "[*] Stored best model to /content/drive/My Drive/Colab Notebooks/data/NLP/HW3/output/seq2seq.pt\n",
      "[TRAIN] Epoch 78 - Loss: 0.087370\n",
      "[EVAL] Epoch 78 - Loss: 0.052594\n",
      "[*] Stored best model to /content/drive/My Drive/Colab Notebooks/data/NLP/HW3/output/seq2seq.pt\n",
      "[TRAIN] Epoch 79 - Loss: 0.085007\n",
      "[EVAL] Epoch 79 - Loss: 0.047357\n",
      "[*] Stored best model to /content/drive/My Drive/Colab Notebooks/data/NLP/HW3/output/seq2seq.pt\n",
      "[TRAIN] Epoch 80 - Loss: 0.077368\n",
      "[EVAL] Epoch 80 - Loss: 0.036645\n",
      "[*] Stored best model to /content/drive/My Drive/Colab Notebooks/data/NLP/HW3/output/seq2seq.pt\n",
      "[TRAIN] Epoch 81 - Loss: 0.068811\n",
      "[EVAL] Epoch 81 - Loss: 0.024768\n",
      "[*] Stored best model to /content/drive/My Drive/Colab Notebooks/data/NLP/HW3/output/seq2seq.pt\n",
      "[TRAIN] Epoch 82 - Loss: 0.061153\n",
      "[EVAL] Epoch 82 - Loss: 0.027486\n",
      "[TRAIN] Epoch 83 - Loss: 0.053442\n",
      "[EVAL] Epoch 83 - Loss: 0.018957\n",
      "[*] Stored best model to /content/drive/My Drive/Colab Notebooks/data/NLP/HW3/output/seq2seq.pt\n",
      "[TRAIN] Epoch 84 - Loss: 0.059470\n",
      "[EVAL] Epoch 84 - Loss: 0.018582\n",
      "[*] Stored best model to /content/drive/My Drive/Colab Notebooks/data/NLP/HW3/output/seq2seq.pt\n",
      "[TRAIN] Epoch 85 - Loss: 0.051802\n",
      "[EVAL] Epoch 85 - Loss: 0.014404\n",
      "[*] Stored best model to /content/drive/My Drive/Colab Notebooks/data/NLP/HW3/output/seq2seq.pt\n",
      "[TRAIN] Epoch 86 - Loss: 0.047266\n",
      "[EVAL] Epoch 86 - Loss: 0.013800\n",
      "[*] Stored best model to /content/drive/My Drive/Colab Notebooks/data/NLP/HW3/output/seq2seq.pt\n",
      "[TRAIN] Epoch 87 - Loss: 0.044064\n",
      "[EVAL] Epoch 87 - Loss: 0.011658\n",
      "[*] Stored best model to /content/drive/My Drive/Colab Notebooks/data/NLP/HW3/output/seq2seq.pt\n",
      "[TRAIN] Epoch 88 - Loss: 0.041237\n",
      "[EVAL] Epoch 88 - Loss: 0.012737\n",
      "[TRAIN] Epoch 89 - Loss: 0.042569\n",
      "[EVAL] Epoch 89 - Loss: 0.010250\n",
      "[*] Stored best model to /content/drive/My Drive/Colab Notebooks/data/NLP/HW3/output/seq2seq.pt\n",
      "[TRAIN] Epoch 90 - Loss: 0.039186\n",
      "[EVAL] Epoch 90 - Loss: 0.010066\n",
      "[*] Stored best model to /content/drive/My Drive/Colab Notebooks/data/NLP/HW3/output/seq2seq.pt\n",
      "[TRAIN] Epoch 91 - Loss: 0.037340\n",
      "[EVAL] Epoch 91 - Loss: 0.009915\n",
      "[*] Stored best model to /content/drive/My Drive/Colab Notebooks/data/NLP/HW3/output/seq2seq.pt\n",
      "[TRAIN] Epoch 92 - Loss: 0.029729\n",
      "[EVAL] Epoch 92 - Loss: 0.007409\n",
      "[*] Stored best model to /content/drive/My Drive/Colab Notebooks/data/NLP/HW3/output/seq2seq.pt\n",
      "[TRAIN] Epoch 93 - Loss: 0.029596\n",
      "[EVAL] Epoch 93 - Loss: 0.007598\n",
      "[TRAIN] Epoch 94 - Loss: 0.030472\n",
      "[EVAL] Epoch 94 - Loss: 0.007322\n",
      "[*] Stored best model to /content/drive/My Drive/Colab Notebooks/data/NLP/HW3/output/seq2seq.pt\n",
      "[TRAIN] Epoch 95 - Loss: 0.026099\n",
      "[EVAL] Epoch 95 - Loss: 0.007081\n",
      "[*] Stored best model to /content/drive/My Drive/Colab Notebooks/data/NLP/HW3/output/seq2seq.pt\n",
      "[TRAIN] Epoch 96 - Loss: 0.029029\n",
      "[EVAL] Epoch 96 - Loss: 0.006691\n",
      "[*] Stored best model to /content/drive/My Drive/Colab Notebooks/data/NLP/HW3/output/seq2seq.pt\n",
      "[TRAIN] Epoch 97 - Loss: 0.027110\n",
      "[EVAL] Epoch 97 - Loss: 0.006267\n",
      "[*] Stored best model to /content/drive/My Drive/Colab Notebooks/data/NLP/HW3/output/seq2seq.pt\n",
      "[TRAIN] Epoch 98 - Loss: 0.026992\n",
      "[EVAL] Epoch 98 - Loss: 0.007187\n",
      "[TRAIN] Epoch 99 - Loss: 0.026950\n",
      "[EVAL] Epoch 99 - Loss: 0.006344\n",
      "[TRAIN] Epoch 100 - Loss: 0.025282\n",
      "[EVAL] Epoch 100 - Loss: 0.006371\n",
      "Start:  2020-04-10 19:46:35.905610\n"
     ]
    }
   ],
   "source": [
    "if not MODEL_EXISTED_SEQ2SEQ or FORCE_RETRAIN:\n",
    "    encoder = Encoder(vocab_size=len(src_vocab), emb_dim=64, hidden_dim=128, z_type=1)\n",
    "    decoder = Decoder(vocab_size=len(tgt_vocab), emb_dim=64, hidden_dim=128)\n",
    "\n",
    "    encoder, decoder, train_losses, valid_losses = train_loop(encoder, decoder, train_x, train_y, \n",
    "                                                            validate=True, valid_x=valid_x, valid_y=valid_y, epochs=100, \n",
    "                                                            store_best_model=True, store_path=MODEL_PATH_SEQ2SEQ, store_after_epochs=50)\n",
    "else:\n",
    "    print(\"Model already existed at: %s\" % MODEL_PATH_SEQ2SEQ)\n",
    "    print(\"Training & Validating Losses also stored in the model. To force to retrain this model, please set FORCE_RETRAIN=True.\")"
   ]
  },
  {
   "cell_type": "markdown",
   "metadata": {
    "colab_type": "text",
    "id": "SjH4H0Vuee1F"
   },
   "source": [
    "#### Train the Model: Seq2Seq + Attention"
   ]
  },
  {
   "cell_type": "code",
   "execution_count": 0,
   "metadata": {
    "colab": {
     "base_uri": "https://localhost:8080/",
     "height": 1000
    },
    "colab_type": "code",
    "id": "4YhsMBkOK7OC",
    "outputId": "fb5d66ee-03b6-4320-e0d3-0456f6039f98"
   },
   "outputs": [
    {
     "name": "stdout",
     "output_type": "stream",
     "text": [
      "Encoder(\n",
      "  (emb): Embedding(27, 64)\n",
      "  (lstm): LSTM(64, 128, batch_first=True)\n",
      "  (drop): Dropout(p=0.5, inplace=False)\n",
      ")\n",
      "AttentionDecoder(\n",
      "  (emb): Embedding(29, 64)\n",
      "  (lstm): LSTMCell(64, 128)\n",
      "  (attn): Attention(\n",
      "    (W): Linear(in_features=256, out_features=64, bias=True)\n",
      "    (v): Linear(in_features=64, out_features=1, bias=False)\n",
      "  )\n",
      "  (clf): Linear(in_features=256, out_features=29, bias=True)\n",
      "  (drop): Dropout(p=0.5, inplace=False)\n",
      "  (objective): CrossEntropyLoss()\n",
      ")\n",
      "Start:  2020-04-10 19:49:44.454718\n",
      "[TRAIN] Epoch 1 - Loss: 1.052269\n",
      "[EVAL] Epoch 1 - Loss: 0.168026\n",
      "[TRAIN] Epoch 2 - Loss: 0.219793\n",
      "[EVAL] Epoch 2 - Loss: 0.024957\n",
      "[TRAIN] Epoch 3 - Loss: 0.102422\n",
      "[EVAL] Epoch 3 - Loss: 0.016096\n",
      "[TRAIN] Epoch 4 - Loss: 0.070282\n",
      "[EVAL] Epoch 4 - Loss: 0.010579\n",
      "[TRAIN] Epoch 5 - Loss: 0.058032\n",
      "[EVAL] Epoch 5 - Loss: 0.009743\n",
      "[TRAIN] Epoch 6 - Loss: 0.047720\n",
      "[EVAL] Epoch 6 - Loss: 0.006827\n",
      "[TRAIN] Epoch 7 - Loss: 0.042278\n",
      "[EVAL] Epoch 7 - Loss: 0.005948\n",
      "[TRAIN] Epoch 8 - Loss: 0.038711\n",
      "[EVAL] Epoch 8 - Loss: 0.005071\n",
      "[TRAIN] Epoch 9 - Loss: 0.038778\n",
      "[EVAL] Epoch 9 - Loss: 0.004105\n",
      "[TRAIN] Epoch 10 - Loss: 0.034048\n",
      "[EVAL] Epoch 10 - Loss: 0.005313\n",
      "[TRAIN] Epoch 11 - Loss: 0.034616\n",
      "[EVAL] Epoch 11 - Loss: 0.004636\n",
      "[TRAIN] Epoch 12 - Loss: 0.032437\n",
      "[EVAL] Epoch 12 - Loss: 0.004140\n",
      "[TRAIN] Epoch 13 - Loss: 0.027452\n",
      "[EVAL] Epoch 13 - Loss: 0.003180\n",
      "[TRAIN] Epoch 14 - Loss: 0.027727\n",
      "[EVAL] Epoch 14 - Loss: 0.002463\n",
      "[TRAIN] Epoch 15 - Loss: 0.025932\n",
      "[EVAL] Epoch 15 - Loss: 0.002385\n",
      "[TRAIN] Epoch 16 - Loss: 0.022813\n",
      "[EVAL] Epoch 16 - Loss: 0.001952\n",
      "[*] Stored best model to /content/drive/My Drive/Colab Notebooks/data/NLP/HW3/output/seq2seq+attn.pt\n",
      "[TRAIN] Epoch 17 - Loss: 0.021518\n",
      "[EVAL] Epoch 17 - Loss: 0.002228\n",
      "[TRAIN] Epoch 18 - Loss: 0.022123\n",
      "[EVAL] Epoch 18 - Loss: 0.002125\n",
      "[TRAIN] Epoch 19 - Loss: 0.020911\n",
      "[EVAL] Epoch 19 - Loss: 0.001957\n",
      "[TRAIN] Epoch 20 - Loss: 0.019123\n",
      "[EVAL] Epoch 20 - Loss: 0.001678\n",
      "[*] Stored best model to /content/drive/My Drive/Colab Notebooks/data/NLP/HW3/output/seq2seq+attn.pt\n",
      "[TRAIN] Epoch 21 - Loss: 0.020029\n",
      "[EVAL] Epoch 21 - Loss: 0.001599\n",
      "[*] Stored best model to /content/drive/My Drive/Colab Notebooks/data/NLP/HW3/output/seq2seq+attn.pt\n",
      "[TRAIN] Epoch 22 - Loss: 0.019860\n",
      "[EVAL] Epoch 22 - Loss: 0.001746\n",
      "[TRAIN] Epoch 23 - Loss: 0.018512\n",
      "[EVAL] Epoch 23 - Loss: 0.001445\n",
      "[*] Stored best model to /content/drive/My Drive/Colab Notebooks/data/NLP/HW3/output/seq2seq+attn.pt\n",
      "[TRAIN] Epoch 24 - Loss: 0.016851\n",
      "[EVAL] Epoch 24 - Loss: 0.001457\n",
      "[TRAIN] Epoch 25 - Loss: 0.017845\n",
      "[EVAL] Epoch 25 - Loss: 0.001555\n",
      "[TRAIN] Epoch 26 - Loss: 0.018350\n",
      "[EVAL] Epoch 26 - Loss: 0.001720\n",
      "[TRAIN] Epoch 27 - Loss: 0.017702\n",
      "[EVAL] Epoch 27 - Loss: 0.001421\n",
      "[*] Stored best model to /content/drive/My Drive/Colab Notebooks/data/NLP/HW3/output/seq2seq+attn.pt\n",
      "[TRAIN] Epoch 28 - Loss: 0.017490\n",
      "[EVAL] Epoch 28 - Loss: 0.001397\n",
      "[*] Stored best model to /content/drive/My Drive/Colab Notebooks/data/NLP/HW3/output/seq2seq+attn.pt\n",
      "[TRAIN] Epoch 29 - Loss: 0.017148\n",
      "[EVAL] Epoch 29 - Loss: 0.001392\n",
      "[*] Stored best model to /content/drive/My Drive/Colab Notebooks/data/NLP/HW3/output/seq2seq+attn.pt\n",
      "[TRAIN] Epoch 30 - Loss: 0.016750\n",
      "[EVAL] Epoch 30 - Loss: 0.001306\n",
      "[*] Stored best model to /content/drive/My Drive/Colab Notebooks/data/NLP/HW3/output/seq2seq+attn.pt\n",
      "[TRAIN] Epoch 31 - Loss: 0.015714\n",
      "[EVAL] Epoch 31 - Loss: 0.001227\n",
      "[*] Stored best model to /content/drive/My Drive/Colab Notebooks/data/NLP/HW3/output/seq2seq+attn.pt\n",
      "[TRAIN] Epoch 32 - Loss: 0.017157\n",
      "[EVAL] Epoch 32 - Loss: 0.001136\n",
      "[*] Stored best model to /content/drive/My Drive/Colab Notebooks/data/NLP/HW3/output/seq2seq+attn.pt\n",
      "[TRAIN] Epoch 33 - Loss: 0.014273\n",
      "[EVAL] Epoch 33 - Loss: 0.001145\n",
      "[TRAIN] Epoch 34 - Loss: 0.015525\n",
      "[EVAL] Epoch 34 - Loss: 0.001046\n",
      "[*] Stored best model to /content/drive/My Drive/Colab Notebooks/data/NLP/HW3/output/seq2seq+attn.pt\n",
      "[TRAIN] Epoch 35 - Loss: 0.015789\n",
      "[EVAL] Epoch 35 - Loss: 0.001104\n",
      "[TRAIN] Epoch 36 - Loss: 0.017716\n",
      "[EVAL] Epoch 36 - Loss: 0.000953\n",
      "[*] Stored best model to /content/drive/My Drive/Colab Notebooks/data/NLP/HW3/output/seq2seq+attn.pt\n",
      "[TRAIN] Epoch 37 - Loss: 0.015709\n",
      "[EVAL] Epoch 37 - Loss: 0.000932\n",
      "[*] Stored best model to /content/drive/My Drive/Colab Notebooks/data/NLP/HW3/output/seq2seq+attn.pt\n",
      "[TRAIN] Epoch 38 - Loss: 0.015744\n",
      "[EVAL] Epoch 38 - Loss: 0.000815\n",
      "[*] Stored best model to /content/drive/My Drive/Colab Notebooks/data/NLP/HW3/output/seq2seq+attn.pt\n",
      "[TRAIN] Epoch 39 - Loss: 0.016577\n",
      "[EVAL] Epoch 39 - Loss: 0.000986\n",
      "[TRAIN] Epoch 40 - Loss: 0.015109\n",
      "[EVAL] Epoch 40 - Loss: 0.001018\n",
      "[TRAIN] Epoch 41 - Loss: 0.015969\n",
      "[EVAL] Epoch 41 - Loss: 0.000946\n",
      "[TRAIN] Epoch 42 - Loss: 0.015850\n",
      "[EVAL] Epoch 42 - Loss: 0.001094\n",
      "[TRAIN] Epoch 43 - Loss: 0.013866\n",
      "[EVAL] Epoch 43 - Loss: 0.000780\n",
      "[*] Stored best model to /content/drive/My Drive/Colab Notebooks/data/NLP/HW3/output/seq2seq+attn.pt\n",
      "[TRAIN] Epoch 44 - Loss: 0.015347\n",
      "[EVAL] Epoch 44 - Loss: 0.001069\n",
      "[TRAIN] Epoch 45 - Loss: 0.013756\n",
      "[EVAL] Epoch 45 - Loss: 0.000820\n",
      "[TRAIN] Epoch 46 - Loss: 0.014692\n",
      "[EVAL] Epoch 46 - Loss: 0.000748\n",
      "[*] Stored best model to /content/drive/My Drive/Colab Notebooks/data/NLP/HW3/output/seq2seq+attn.pt\n",
      "[TRAIN] Epoch 47 - Loss: 0.013485\n",
      "[EVAL] Epoch 47 - Loss: 0.001002\n",
      "[TRAIN] Epoch 48 - Loss: 0.014909\n",
      "[EVAL] Epoch 48 - Loss: 0.000754\n",
      "[TRAIN] Epoch 49 - Loss: 0.014411\n",
      "[EVAL] Epoch 49 - Loss: 0.000847\n",
      "[TRAIN] Epoch 50 - Loss: 0.013821\n",
      "[EVAL] Epoch 50 - Loss: 0.000955\n",
      "Start:  2020-04-10 19:58:05.367062\n"
     ]
    }
   ],
   "source": [
    "if not MODEL_EXISTED_SEQ2SEQ_ATTENTION or FORCE_RETRAIN:\n",
    "    encoder = Encoder(vocab_size=len(src_vocab), emb_dim=64, hidden_dim=128, z_type=0)\n",
    "    decoder = AttentionDecoder(vocab_size=len(tgt_vocab), emb_dim=64, hidden_dim=128, attn_size=64)\n",
    "\n",
    "    encoder, decoder, train_losses, valid_losses = train_loop(encoder, decoder, train_x, train_y, \n",
    "                                                            validate=True, valid_x=valid_x, valid_y=valid_y, epochs=50, \n",
    "                                                            store_best_model=True, store_path=MODEL_PATH_SEQ2SEQ_ATTENTION, \n",
    "                                                            store_after_epochs=15)\n",
    "else:\n",
    "    print(\"Model already existed at: %s\" % MODEL_PATH_SEQ2SEQ_ATTENTION)\n",
    "    print(\"Training & Validating Losses also stored in the model. To force to retrain this model, please set FORCE_RETRAIN=True.\")"
   ]
  },
  {
   "cell_type": "markdown",
   "metadata": {
    "colab_type": "text",
    "id": "YRUR57HyOy_h"
   },
   "source": [
    "### 5. Evaluation"
   ]
  },
  {
   "cell_type": "markdown",
   "metadata": {
    "colab_type": "text",
    "id": "U6oPdilVlNFv"
   },
   "source": [
    "#### Predicition"
   ]
  },
  {
   "cell_type": "code",
   "execution_count": 0,
   "metadata": {
    "colab": {},
    "colab_type": "code",
    "id": "wfpVP4tIOy_i"
   },
   "outputs": [],
   "source": [
    "def predict(encoder, decoder, samples, index_to_elem, remove_ending=True):\n",
    "    encoder.eval()\n",
    "    decoder.eval()\n",
    "    \n",
    "    preds = []\n",
    "    for i in range(len(samples)):\n",
    "        encoded = encoder([samples[i]])\n",
    "        pred = decoder.predict(encoded, START_IX, STOP_IX, maxlen=15)\n",
    "        pred = [index_to_elem[ix] for ix in pred]\n",
    "        if remove_ending:\n",
    "            preds.append(''.join(pred).replace('<end>', ''))\n",
    "        else:\n",
    "            preds.append(''.join(pred))\n",
    "\n",
    "    return preds"
   ]
  },
  {
   "cell_type": "markdown",
   "metadata": {
    "colab_type": "text",
    "id": "uDxXOt_1ePlT"
   },
   "source": [
    "#### With validation data"
   ]
  },
  {
   "cell_type": "markdown",
   "metadata": {
    "colab_type": "text",
    "id": "kUzc9LnberC2"
   },
   "source": [
    "##### **Vanilla Seq2Seq**"
   ]
  },
  {
   "cell_type": "code",
   "execution_count": 114,
   "metadata": {
    "colab": {
     "base_uri": "https://localhost:8080/",
     "height": 391
    },
    "colab_type": "code",
    "id": "k3jGnlrrOy_k",
    "outputId": "1ebafe79-ba8f-44f2-cc2c-c79d64f4cad9"
   },
   "outputs": [
    {
     "name": "stdout",
     "output_type": "stream",
     "text": [
      "Accuracy: 0.998\n",
      "Examples:\n",
      "+ jjuvvmmmauuu --> ajmuv --> ajmuv\n",
      "+ ceeeppnnn --> cenp --> cenp\n",
      "+ iiikkxxaaijjjnnaaeee --> aeijknx --> aeijknx\n",
      "+ hqqtttnnnooawwc --> achnoqtw --> achnoqtw\n",
      "+ zzooeeeooonnzkhjhhh --> ehjknoz --> ehjknoz\n",
      "+ aaaepppiitmbbb --> abeimpt --> abeimpt\n",
      "+ wssrriidyyyf --> dfirswy --> dfirswy\n",
      "+ kkuhhcrrzzmmmwww --> chkmruwz --> chkmruwz\n",
      "+ cssxx --> csx --> csx\n",
      "+ ddooouulllelllc --> cdelou --> cdelou\n",
      "+ lllkkkaaaggfihrrr --> afghiklr --> afghiklr\n",
      "+ ttgbbiillzocccuuu --> bcgilotuz --> bcgilotuz\n",
      "+ lliiieeexiivvvtttrrrfffxx --> efilrtvx --> efilrtvx\n",
      "+ parhhhylll --> ahlpry --> ahlpry\n",
      "+ qqqccciialrrrvvvlzzz --> acilqrvz --> acilqrvz\n",
      "+ cczppkq --> ckpqz --> ckpqz\n",
      "+ ffffffsaa --> afs --> afs\n",
      "+ kooopppwooeet --> ekoptw --> ekoptw\n",
      "+ oyyyiiio --> ioy --> ioy\n",
      "+ nnnyyxxuuufff --> fnuxy --> fnuxy\n"
     ]
    }
   ],
   "source": [
    "encoder = Encoder(vocab_size=len(src_vocab), emb_dim=64, hidden_dim=128, z_type=1)\n",
    "decoder = Decoder(vocab_size=len(tgt_vocab), emb_dim=64, hidden_dim=128)\n",
    "\n",
    "state = torch.load(MODEL_PATH_SEQ2SEQ)\n",
    "encoder.load_state_dict(state['encoder'])\n",
    "decoder.load_state_dict(state['decoder'])\n",
    "\n",
    "predictions = predict(encoder, decoder, valid_x, tgt_vocab.itos, remove_ending=False)\n",
    "groundtruth = [''.join(t) for t in valid_out]\n",
    "\n",
    "print('Accuracy: %s' % accuracy_score(groundtruth, predictions))\n",
    "print('Examples:')\n",
    "for i in range(len(valid_inp[:20])):\n",
    "    x = ''.join(valid_inp[i])\n",
    "    y = ''.join(valid_out[i])\n",
    "    \n",
    "    print(f\"+ {x} --> {y} --> {predictions[i]}\")"
   ]
  },
  {
   "cell_type": "code",
   "execution_count": 119,
   "metadata": {
    "colab": {
     "base_uri": "https://localhost:8080/",
     "height": 281
    },
    "colab_type": "code",
    "id": "d57lWAydOGfx",
    "outputId": "332e1487-accf-459b-8deb-5122101253ef"
   },
   "outputs": [
    {
     "data": {
      "image/png": "[encoded data removed]",
      "text/plain": [
       "<Figure size 432x288 with 1 Axes>"
      ]
     },
     "metadata": {
      "needs_background": "light",
      "tags": []
     },
     "output_type": "display_data"
    }
   ],
   "source": [
    "state = torch.load(MODEL_PATH_SEQ2SEQ_LOSS)\n",
    "\n",
    "losses = state['losses']\n",
    "train_losses = losses['train_losses']\n",
    "valid_losses = losses['valid_losses']\n",
    "\n",
    "plt.plot(range(len(train_losses)), train_losses)\n",
    "plt.plot(range(len(train_losses)), valid_losses)\n",
    "plt.title('Figure 1: Train Loss and Evaluting Loss of Vanilla Seq2Seq Model')\n",
    "plt.legend(['Train Loss', 'Eval Loss'], loc='upper right')\n",
    "plt.show()"
   ]
  },
  {
   "cell_type": "markdown",
   "metadata": {
    "colab_type": "text",
    "id": "9Ke5gIwee3ez"
   },
   "source": [
    "##### **Seq2Seq + Attention**"
   ]
  },
  {
   "cell_type": "code",
   "execution_count": 115,
   "metadata": {
    "colab": {
     "base_uri": "https://localhost:8080/",
     "height": 391
    },
    "colab_type": "code",
    "id": "IUWpFh7kOy_t",
    "outputId": "b6920a86-b87d-4839-fd5a-2b6beea3b923"
   },
   "outputs": [
    {
     "name": "stdout",
     "output_type": "stream",
     "text": [
      "Accuracy: 0.9996\n",
      "Examples:\n",
      "+ jjuvvmmmauuu --> ajmuv --> ajmuv\n",
      "+ ceeeppnnn --> cenp --> cenp\n",
      "+ iiikkxxaaijjjnnaaeee --> aeijknx --> aeijknx\n",
      "+ hqqtttnnnooawwc --> achnoqtw --> achnoqtw\n",
      "+ zzooeeeooonnzkhjhhh --> ehjknoz --> ehjknoz\n",
      "+ aaaepppiitmbbb --> abeimpt --> abeimpt\n",
      "+ wssrriidyyyf --> dfirswy --> dfirswy\n",
      "+ kkuhhcrrzzmmmwww --> chkmruwz --> chkmruwz\n",
      "+ cssxx --> csx --> csx\n",
      "+ ddooouulllelllc --> cdelou --> cdelou\n",
      "+ lllkkkaaaggfihrrr --> afghiklr --> afghiklr\n",
      "+ ttgbbiillzocccuuu --> bcgilotuz --> bcgilotuz\n",
      "+ lliiieeexiivvvtttrrrfffxx --> efilrtvx --> efilrtvx\n",
      "+ parhhhylll --> ahlpry --> ahlpry\n",
      "+ qqqccciialrrrvvvlzzz --> acilqrvz --> acilqrvz\n",
      "+ cczppkq --> ckpqz --> ckpqz\n",
      "+ ffffffsaa --> afs --> afs\n",
      "+ kooopppwooeet --> ekoptw --> ekoptw\n",
      "+ oyyyiiio --> ioy --> ioy\n",
      "+ nnnyyxxuuufff --> fnuxy --> fnuxy\n"
     ]
    }
   ],
   "source": [
    "encoder = Encoder(vocab_size=len(src_vocab), emb_dim=64, hidden_dim=128, z_type=0)\n",
    "decoder = AttentionDecoder(vocab_size=len(tgt_vocab), emb_dim=64, hidden_dim=128, attn_size=64)\n",
    "\n",
    "state = torch.load(MODEL_PATH_SEQ2SEQ_ATTENTION)\n",
    "encoder.load_state_dict(state['encoder'])\n",
    "decoder.load_state_dict(state['decoder'])\n",
    "\n",
    "predictions = predict(encoder, decoder, valid_x, tgt_vocab.itos, remove_ending=False)\n",
    "groundtruth = [''.join(t) for t in valid_out]\n",
    "\n",
    "print('Accuracy: %s' % accuracy_score(groundtruth, predictions))\n",
    "print('Examples:')\n",
    "for i in range(len(valid_inp[:20])):\n",
    "    x = ''.join(valid_inp[i])\n",
    "    y = ''.join(valid_out[i])\n",
    "    \n",
    "    print(f\"+ {x} --> {y} --> {predictions[i]}\")"
   ]
  },
  {
   "cell_type": "code",
   "execution_count": 118,
   "metadata": {
    "colab": {
     "base_uri": "https://localhost:8080/",
     "height": 281
    },
    "colab_type": "code",
    "id": "3CJ30dsFSxES",
    "outputId": "905aa803-0119-4c79-e423-8386524ca975"
   },
   "outputs": [
    {
     "data": {
      "image/png": "[encoded data removed]",
      "text/plain": [
       "<Figure size 432x288 with 1 Axes>"
      ]
     },
     "metadata": {
      "needs_background": "light",
      "tags": []
     },
     "output_type": "display_data"
    }
   ],
   "source": [
    "losses = state['losses']\n",
    "train_losses = losses['train_losses']\n",
    "valid_losses = losses['valid_losses']\n",
    "\n",
    "plt.plot(range(len(train_losses)), train_losses)\n",
    "plt.plot(range(len(train_losses)), valid_losses)\n",
    "plt.title('Figure 2: Train Loss and Evaluting Loss of Seq2Seq + Attention Model')\n",
    "plt.legend(['Train Loss', 'Eval Loss'], loc='upper right')\n",
    "plt.show()"
   ]
  },
  {
   "cell_type": "markdown",
   "metadata": {
    "colab_type": "text",
    "id": "3R0EEEhmdd8h"
   },
   "source": [
    "#### With test data"
   ]
  },
  {
   "cell_type": "code",
   "execution_count": 0,
   "metadata": {
    "colab": {},
    "colab_type": "code",
    "id": "zDc35QyXOy_z"
   },
   "outputs": [],
   "source": [
    "test_x = map_many_elems(test_inp, src_vocab.stoi, seq_type='input', seq_length=58)\n",
    "test_y = map_many_elems(test_out, tgt_vocab.stoi, seq_type='output', seq_length=13)"
   ]
  },
  {
   "cell_type": "markdown",
   "metadata": {
    "colab_type": "text",
    "id": "2LW482sXOy_1"
   },
   "source": [
    "##### - **Vanilla Seq2Seq**"
   ]
  },
  {
   "cell_type": "code",
   "execution_count": 0,
   "metadata": {
    "colab": {
     "base_uri": "https://localhost:8080/",
     "height": 34
    },
    "colab_type": "code",
    "id": "Wmv-EY99Oy_1",
    "outputId": "b433c976-4ee2-48f6-e67f-0cd6489376f8"
   },
   "outputs": [
    {
     "data": {
      "text/plain": [
       "0.9936"
      ]
     },
     "execution_count": 81,
     "metadata": {
      "tags": []
     },
     "output_type": "execute_result"
    }
   ],
   "source": [
    "encoder = Encoder(vocab_size=len(src_vocab), emb_dim=64, hidden_dim=128, z_type=1)\n",
    "decoder = Decoder(vocab_size=len(tgt_vocab), emb_dim=64, hidden_dim=128)\n",
    "\n",
    "state_dict = torch.load(MODEL_PATH_SEQ2SEQ)\n",
    "encoder.load_state_dict(state_dict['encoder'])\n",
    "decoder.load_state_dict(state_dict['decoder'])\n",
    "\n",
    "predictions = predict(encoder, decoder, test_x, tgt_vocab.itos)\n",
    "groundtruth = [''.join(t) for t in test_out]\n",
    "\n",
    "accuracy_score(groundtruth, predictions)"
   ]
  },
  {
   "cell_type": "code",
   "execution_count": 0,
   "metadata": {
    "colab": {
     "base_uri": "https://localhost:8080/",
     "height": 51
    },
    "colab_type": "code",
    "id": "CBWosHZdGPve",
    "outputId": "3642a623-22fd-41b8-9728-cb90a9d04786"
   },
   "outputs": [
    {
     "name": "stdout",
     "output_type": "stream",
     "text": [
      "['cdfhjmqtuw', 'chmruvw', 'aehiklmrwxyz', 'hmprz', 'dgijmnoy', 'abflrsty', 'bjouy', 'clnqrsxz', 'ehptxz', 'fgv']\n",
      "['cdfhjmqtuw', 'chmruvw', 'aehiklmrwxyz', 'hmprz', 'dgijmnoy', 'abflrsty', 'bjouy', 'clnqrsxz', 'ehptxz', 'fgv']\n"
     ]
    }
   ],
   "source": [
    "print(predictions[0:10])\n",
    "print(groundtruth[0:10])"
   ]
  },
  {
   "cell_type": "markdown",
   "metadata": {
    "colab_type": "text",
    "id": "ug5XiZrSOy_3"
   },
   "source": [
    "##### - **Seq2Seq + Attention**"
   ]
  },
  {
   "cell_type": "code",
   "execution_count": 0,
   "metadata": {
    "colab": {
     "base_uri": "https://localhost:8080/",
     "height": 34
    },
    "colab_type": "code",
    "id": "p73nIp22Oy_3",
    "outputId": "3b9ca742-13e9-46f1-c946-a832c5108860"
   },
   "outputs": [
    {
     "data": {
      "text/plain": [
       "0.9992"
      ]
     },
     "execution_count": 83,
     "metadata": {
      "tags": []
     },
     "output_type": "execute_result"
    }
   ],
   "source": [
    "encoder = Encoder(vocab_size=len(src_vocab), emb_dim=64, hidden_dim=128, z_type=0)\n",
    "decoder = AttentionDecoder(vocab_size=len(tgt_vocab), emb_dim=64, hidden_dim=128, attn_size=64)\n",
    "\n",
    "state_dict = torch.load(MODEL_PATH_SEQ2SEQ_ATTENTION)\n",
    "encoder.load_state_dict(state_dict['encoder'])\n",
    "decoder.load_state_dict(state_dict['decoder'])\n",
    "\n",
    "predictions = predict(encoder, decoder, test_x, tgt_vocab.itos)\n",
    "groundtruth = [''.join(t) for t in test_out]\n",
    "\n",
    "accuracy_score(groundtruth, predictions)"
   ]
  },
  {
   "cell_type": "code",
   "execution_count": 0,
   "metadata": {
    "colab": {
     "base_uri": "https://localhost:8080/",
     "height": 51
    },
    "colab_type": "code",
    "id": "4HK49Fmstnyy",
    "outputId": "d7012068-c2ee-4a66-d753-15ff1677969c"
   },
   "outputs": [
    {
     "name": "stdout",
     "output_type": "stream",
     "text": [
      "['cdfhjmqtuw', 'chmruvw', 'aehiklmrwxyz', 'hmprz', 'dgijmnoy', 'abflrsty', 'bjouy', 'clnqrsxz', 'ehptxz', 'fgv']\n",
      "['cdfhjmqtuw', 'chmruvw', 'aehiklmrwxyz', 'hmprz', 'dgijmnoy', 'abflrsty', 'bjouy', 'clnqrsxz', 'ehptxz', 'fgv']\n"
     ]
    }
   ],
   "source": [
    "print(predictions[0:10])\n",
    "print(groundtruth[0:10])"
   ]
  },
  {
   "cell_type": "markdown",
   "metadata": {
    "colab_type": "text",
    "id": "oak7rij-f4J3"
   },
   "source": [
    "### 6. Analysis & Discussion"
   ]
  },
  {
   "cell_type": "markdown",
   "metadata": {
    "colab_type": "text",
    "id": "GIxUXX1kQBhr"
   },
   "source": [
    "\n",
    "- With validation data set, the accuracy performance of 2 models are equivalent (**99.8%** vs **99.96%**). *Seq2Seq with Attention* overperforms slightly.\n",
    "- With test data set, the accuracy performance of 2 models are also equivalent (**99.36%** vs **99.92%**). *Seq2Seq with Attention* also performs better slightly.\n",
    "- `Figure 1` and `Figure 2` presents the loss at each epoch for *Vanilla Seq2Seq* model and *Seq2Seq with Attention* model. The loss function of *Seq2Seq with Attention* model converges quicker with less number of epoches than the *Vanilla Seq2Seq* model. That means with less computational step, *Seq2Seq with Attention* model will achieve an equivalent performance with *Vanilla Seq2Seq* model.\n",
    "- Besides, one thing we can notice is the evaluating loss is less than training loss at each epoch step. This is unusual and interesting. However, it could be explained as the input and output has a clear formula of transformation that the output is ordered character-deduplicated string of the input. So that training and validating data set are genenerated without any human/third-party error. In this fashion, because there are less number of samples in validating set (5000/20000) and these samples may be not as difficult/long as in the training set, the model performs better in validating data set.\n"
   ]
  },
  {
   "cell_type": "markdown",
   "metadata": {
    "colab_type": "text",
    "id": "X0ePdx2UQAiQ"
   },
   "source": [
    "**Thank you for reading and happy weekend!**"
   ]
  },
  {
   "cell_type": "code",
   "execution_count": 0,
   "metadata": {
    "colab": {},
    "colab_type": "code",
    "id": "YuJH1MN2QEDs"
   },
   "outputs": [],
   "source": []
  }
 ],
 "metadata": {
  "accelerator": "GPU",
  "colab": {
   "collapsed_sections": [],
   "name": "HW3: Sequence to Sequence Models",
   "provenance": []
  },
  "kernelspec": {
   "display_name": "Python 3",
   "language": "python",
   "name": "python3"
  },
  "language_info": {
   "codemirror_mode": {
    "name": "ipython",
    "version": 3
   },
   "file_extension": ".py",
   "mimetype": "text/x-python",
   "name": "python",
   "nbconvert_exporter": "python",
   "pygments_lexer": "ipython3",
   "version": "3.7.4"
  }
 },
 "nbformat": 4,
 "nbformat_minor": 1
}
